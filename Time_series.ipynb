{
 "cells": [
  {
   "cell_type": "markdown",
   "metadata": {
    "toc": true
   },
   "source": [
    "<h1>Содержание<span class=\"tocSkip\"></span></h1>\n",
    "<div class=\"toc\"><ul class=\"toc-item\"><li><span><a href=\"#Подготовка\" data-toc-modified-id=\"Подготовка-1\"><span class=\"toc-item-num\">1&nbsp;&nbsp;</span>Подготовка</a></span></li><li><span><a href=\"#Анализ\" data-toc-modified-id=\"Анализ-2\"><span class=\"toc-item-num\">2&nbsp;&nbsp;</span>Анализ</a></span></li><li><span><a href=\"#Обучение\" data-toc-modified-id=\"Обучение-3\"><span class=\"toc-item-num\">3&nbsp;&nbsp;</span>Обучение</a></span><ul class=\"toc-item\"><li><span><a href=\"#Создание-признаков-и-выборок\" data-toc-modified-id=\"Создание-признаков-и-выборок-3.1\"><span class=\"toc-item-num\">3.1&nbsp;&nbsp;</span>Создание признаков и выборок</a></span></li><li><span><a href=\"#CatBoostRegressor\" data-toc-modified-id=\"CatBoostRegressor-3.2\"><span class=\"toc-item-num\">3.2&nbsp;&nbsp;</span>CatBoostRegressor</a></span></li><li><span><a href=\"#Ridge\" data-toc-modified-id=\"Ridge-3.3\"><span class=\"toc-item-num\">3.3&nbsp;&nbsp;</span>Ridge</a></span></li><li><span><a href=\"#Аализ-моделей\" data-toc-modified-id=\"Аализ-моделей-3.4\"><span class=\"toc-item-num\">3.4&nbsp;&nbsp;</span>Аализ моделей</a></span></li></ul></li><li><span><a href=\"#Тестирование\" data-toc-modified-id=\"Тестирование-4\"><span class=\"toc-item-num\">4&nbsp;&nbsp;</span>Тестирование</a></span></li><li><span><a href=\"#Вывод\" data-toc-modified-id=\"Вывод-5\"><span class=\"toc-item-num\">5&nbsp;&nbsp;</span>Вывод</a></span></li><li><span><a href=\"#Чек-лист-проверки\" data-toc-modified-id=\"Чек-лист-проверки-6\"><span class=\"toc-item-num\">6&nbsp;&nbsp;</span>Чек-лист проверки</a></span></li></ul></div>"
   ]
  },
  {
   "cell_type": "markdown",
   "metadata": {},
   "source": [
    "#  Прогнозирование заказов такси"
   ]
  },
  {
   "cell_type": "markdown",
   "metadata": {},
   "source": [
    "Компания «Чётенькое такси» собрала исторические данные о заказах такси в аэропортах. Чтобы привлекать больше водителей в период пиковой нагрузки, нужно спрогнозировать количество заказов такси на следующий час. Постройте модель для такого предсказания.\n",
    "\n",
    "Значение метрики *RMSE* на тестовой выборке должно быть не больше 48.\n",
    "\n",
    "Вам нужно:\n",
    "\n",
    "1. Загрузить данные и выполнить их ресемплирование по одному часу.\n",
    "2. Проанализировать данные.\n",
    "3. Обучить разные модели с различными гиперпараметрами. Сделать тестовую выборку размером 10% от исходных данных.\n",
    "4. Проверить данные на тестовой выборке и сделать выводы.\n",
    "\n",
    "\n",
    "Данные лежат в файле `taxi.csv`. Количество заказов находится в столбце `num_orders` (от англ. *number of orders*, «число заказов»)."
   ]
  },
  {
   "cell_type": "markdown",
   "metadata": {},
   "source": [
    "## Подготовка"
   ]
  },
  {
   "cell_type": "code",
   "execution_count": 1,
   "metadata": {},
   "outputs": [
    {
     "name": "stdout",
     "output_type": "stream",
     "text": [
      "Note: you may need to restart the kernel to use updated packages.\n"
     ]
    }
   ],
   "source": [
    "pip install -q --upgrade scikit-learn"
   ]
  },
  {
   "cell_type": "code",
   "execution_count": 28,
   "metadata": {},
   "outputs": [],
   "source": [
    "import pandas as pd\n",
    "import matplotlib.pyplot as plt\n",
    "import numpy as np\n",
    "import seaborn as sns\n",
    "import warnings\n",
    "import os\n",
    "\n",
    "from sklearn.metrics import mean_squared_error\n",
    "from statsmodels.tsa.seasonal import seasonal_decompose\n",
    "from sklearn.model_selection import train_test_split, TimeSeriesSplit, GridSearchCV\n",
    "from catboost import CatBoostRegressor\n",
    "from sklearn.linear_model import Ridge\n",
    "from sklearn.compose import ColumnTransformer\n",
    "from sklearn.preprocessing import OneHotEncoder, StandardScaler\n",
    "from sklearn.pipeline import Pipeline\n",
    "\n",
    "from statsmodels.graphics.tsaplots import plot_acf, plot_pacf"
   ]
  },
  {
   "cell_type": "code",
   "execution_count": 3,
   "metadata": {},
   "outputs": [],
   "source": [
    "warnings.filterwarnings('ignore')"
   ]
  },
  {
   "cell_type": "code",
   "execution_count": 4,
   "metadata": {},
   "outputs": [],
   "source": [
    "RANDOM_STATE = 42\n",
    "TEST_SIZE = 0.1"
   ]
  },
  {
   "cell_type": "code",
   "execution_count": 5,
   "metadata": {},
   "outputs": [],
   "source": [
    "pth = '/datasets/taxi.csv'\n",
    "\n",
    "if os.path.exists(pth):\n",
    "    data = pd.read_csv(pth,index_col=['datetime'], parse_dates=['datetime'])\n",
    "else:\n",
    "    print('Something is wrong')"
   ]
  },
  {
   "cell_type": "markdown",
   "metadata": {},
   "source": [
    "Ознакомимся с данными до ресемплирования.\n"
   ]
  },
  {
   "cell_type": "code",
   "execution_count": 6,
   "metadata": {},
   "outputs": [
    {
     "name": "stdout",
     "output_type": "stream",
     "text": [
      "<class 'pandas.core.frame.DataFrame'>\n",
      "DatetimeIndex: 26496 entries, 2018-03-01 00:00:00 to 2018-08-31 23:50:00\n",
      "Data columns (total 1 columns):\n",
      " #   Column      Non-Null Count  Dtype\n",
      "---  ------      --------------  -----\n",
      " 0   num_orders  26496 non-null  int64\n",
      "dtypes: int64(1)\n",
      "memory usage: 414.0 KB\n"
     ]
    }
   ],
   "source": [
    "data.info()\n"
   ]
  },
  {
   "cell_type": "code",
   "execution_count": 7,
   "metadata": {},
   "outputs": [
    {
     "data": {
      "text/html": [
       "<div>\n",
       "<style scoped>\n",
       "    .dataframe tbody tr th:only-of-type {\n",
       "        vertical-align: middle;\n",
       "    }\n",
       "\n",
       "    .dataframe tbody tr th {\n",
       "        vertical-align: top;\n",
       "    }\n",
       "\n",
       "    .dataframe thead th {\n",
       "        text-align: right;\n",
       "    }\n",
       "</style>\n",
       "<table border=\"1\" class=\"dataframe\">\n",
       "  <thead>\n",
       "    <tr style=\"text-align: right;\">\n",
       "      <th></th>\n",
       "      <th>num_orders</th>\n",
       "    </tr>\n",
       "    <tr>\n",
       "      <th>datetime</th>\n",
       "      <th></th>\n",
       "    </tr>\n",
       "  </thead>\n",
       "  <tbody>\n",
       "    <tr>\n",
       "      <th>2018-03-01 00:00:00</th>\n",
       "      <td>9</td>\n",
       "    </tr>\n",
       "    <tr>\n",
       "      <th>2018-03-01 00:10:00</th>\n",
       "      <td>14</td>\n",
       "    </tr>\n",
       "    <tr>\n",
       "      <th>2018-03-01 00:20:00</th>\n",
       "      <td>28</td>\n",
       "    </tr>\n",
       "    <tr>\n",
       "      <th>2018-03-01 00:30:00</th>\n",
       "      <td>20</td>\n",
       "    </tr>\n",
       "    <tr>\n",
       "      <th>2018-03-01 00:40:00</th>\n",
       "      <td>32</td>\n",
       "    </tr>\n",
       "  </tbody>\n",
       "</table>\n",
       "</div>"
      ],
      "text/plain": [
       "                     num_orders\n",
       "datetime                       \n",
       "2018-03-01 00:00:00           9\n",
       "2018-03-01 00:10:00          14\n",
       "2018-03-01 00:20:00          28\n",
       "2018-03-01 00:30:00          20\n",
       "2018-03-01 00:40:00          32"
      ]
     },
     "execution_count": 7,
     "metadata": {},
     "output_type": "execute_result"
    }
   ],
   "source": [
    "data.head()"
   ]
  },
  {
   "cell_type": "code",
   "execution_count": 8,
   "metadata": {},
   "outputs": [],
   "source": [
    "#Отсортируем и ресемплируем данные по одному часу\n",
    "data.sort_index(inplace=True)\n",
    "data = data.resample('1H').sum()"
   ]
  },
  {
   "cell_type": "code",
   "execution_count": 9,
   "metadata": {},
   "outputs": [
    {
     "name": "stdout",
     "output_type": "stream",
     "text": [
      "<class 'pandas.core.frame.DataFrame'>\n",
      "DatetimeIndex: 4416 entries, 2018-03-01 00:00:00 to 2018-08-31 23:00:00\n",
      "Freq: H\n",
      "Data columns (total 1 columns):\n",
      " #   Column      Non-Null Count  Dtype\n",
      "---  ------      --------------  -----\n",
      " 0   num_orders  4416 non-null   int64\n",
      "dtypes: int64(1)\n",
      "memory usage: 69.0 KB\n"
     ]
    }
   ],
   "source": [
    "data.info()"
   ]
  },
  {
   "cell_type": "code",
   "execution_count": 10,
   "metadata": {},
   "outputs": [
    {
     "data": {
      "text/html": [
       "<div>\n",
       "<style scoped>\n",
       "    .dataframe tbody tr th:only-of-type {\n",
       "        vertical-align: middle;\n",
       "    }\n",
       "\n",
       "    .dataframe tbody tr th {\n",
       "        vertical-align: top;\n",
       "    }\n",
       "\n",
       "    .dataframe thead th {\n",
       "        text-align: right;\n",
       "    }\n",
       "</style>\n",
       "<table border=\"1\" class=\"dataframe\">\n",
       "  <thead>\n",
       "    <tr style=\"text-align: right;\">\n",
       "      <th></th>\n",
       "      <th>num_orders</th>\n",
       "    </tr>\n",
       "    <tr>\n",
       "      <th>datetime</th>\n",
       "      <th></th>\n",
       "    </tr>\n",
       "  </thead>\n",
       "  <tbody>\n",
       "    <tr>\n",
       "      <th>2018-03-01 00:00:00</th>\n",
       "      <td>124</td>\n",
       "    </tr>\n",
       "    <tr>\n",
       "      <th>2018-03-01 01:00:00</th>\n",
       "      <td>85</td>\n",
       "    </tr>\n",
       "    <tr>\n",
       "      <th>2018-03-01 02:00:00</th>\n",
       "      <td>71</td>\n",
       "    </tr>\n",
       "    <tr>\n",
       "      <th>2018-03-01 03:00:00</th>\n",
       "      <td>66</td>\n",
       "    </tr>\n",
       "    <tr>\n",
       "      <th>2018-03-01 04:00:00</th>\n",
       "      <td>43</td>\n",
       "    </tr>\n",
       "  </tbody>\n",
       "</table>\n",
       "</div>"
      ],
      "text/plain": [
       "                     num_orders\n",
       "datetime                       \n",
       "2018-03-01 00:00:00         124\n",
       "2018-03-01 01:00:00          85\n",
       "2018-03-01 02:00:00          71\n",
       "2018-03-01 03:00:00          66\n",
       "2018-03-01 04:00:00          43"
      ]
     },
     "execution_count": 10,
     "metadata": {},
     "output_type": "execute_result"
    }
   ],
   "source": [
    "data.head(5)"
   ]
  },
  {
   "cell_type": "markdown",
   "metadata": {},
   "source": [
    "Выгруженные данные соответствуют описанию задачи, было проведено ресемплирование данных по одному часу, всего данных 4416."
   ]
  },
  {
   "cell_type": "markdown",
   "metadata": {},
   "source": [
    "## Анализ"
   ]
  },
  {
   "cell_type": "code",
   "execution_count": 11,
   "metadata": {},
   "outputs": [
    {
     "data": {
      "text/plain": [
       "num_orders    0\n",
       "dtype: int64"
      ]
     },
     "execution_count": 11,
     "metadata": {},
     "output_type": "execute_result"
    }
   ],
   "source": [
    "#Проверим данные на наличие пропусков\n",
    "data.isna().sum()"
   ]
  },
  {
   "cell_type": "markdown",
   "metadata": {},
   "source": [
    "Дубликатов в нашем проэкте быть не может, поэтому принебрежем их обработкой"
   ]
  },
  {
   "cell_type": "code",
   "execution_count": 12,
   "metadata": {
    "scrolled": true
   },
   "outputs": [
    {
     "data": {
      "text/html": [
       "<div>\n",
       "<style scoped>\n",
       "    .dataframe tbody tr th:only-of-type {\n",
       "        vertical-align: middle;\n",
       "    }\n",
       "\n",
       "    .dataframe tbody tr th {\n",
       "        vertical-align: top;\n",
       "    }\n",
       "\n",
       "    .dataframe thead th {\n",
       "        text-align: right;\n",
       "    }\n",
       "</style>\n",
       "<table border=\"1\" class=\"dataframe\">\n",
       "  <thead>\n",
       "    <tr style=\"text-align: right;\">\n",
       "      <th></th>\n",
       "      <th>num_orders</th>\n",
       "    </tr>\n",
       "  </thead>\n",
       "  <tbody>\n",
       "    <tr>\n",
       "      <th>count</th>\n",
       "      <td>4416.000000</td>\n",
       "    </tr>\n",
       "    <tr>\n",
       "      <th>mean</th>\n",
       "      <td>84.422781</td>\n",
       "    </tr>\n",
       "    <tr>\n",
       "      <th>std</th>\n",
       "      <td>45.023853</td>\n",
       "    </tr>\n",
       "    <tr>\n",
       "      <th>min</th>\n",
       "      <td>0.000000</td>\n",
       "    </tr>\n",
       "    <tr>\n",
       "      <th>25%</th>\n",
       "      <td>54.000000</td>\n",
       "    </tr>\n",
       "    <tr>\n",
       "      <th>50%</th>\n",
       "      <td>78.000000</td>\n",
       "    </tr>\n",
       "    <tr>\n",
       "      <th>75%</th>\n",
       "      <td>107.000000</td>\n",
       "    </tr>\n",
       "    <tr>\n",
       "      <th>max</th>\n",
       "      <td>462.000000</td>\n",
       "    </tr>\n",
       "  </tbody>\n",
       "</table>\n",
       "</div>"
      ],
      "text/plain": [
       "        num_orders\n",
       "count  4416.000000\n",
       "mean     84.422781\n",
       "std      45.023853\n",
       "min       0.000000\n",
       "25%      54.000000\n",
       "50%      78.000000\n",
       "75%     107.000000\n",
       "max     462.000000"
      ]
     },
     "execution_count": 12,
     "metadata": {},
     "output_type": "execute_result"
    }
   ],
   "source": [
    "data.describe()"
   ]
  },
  {
   "cell_type": "markdown",
   "metadata": {},
   "source": [
    "Среднее количество заказов каждый час - 84, медиана - 78, мининальное количество  - 0, максимальное - 462."
   ]
  },
  {
   "cell_type": "code",
   "execution_count": 13,
   "metadata": {
    "scrolled": true
   },
   "outputs": [
    {
     "data": {
      "text/html": [
       "<div>\n",
       "<style scoped>\n",
       "    .dataframe tbody tr th:only-of-type {\n",
       "        vertical-align: middle;\n",
       "    }\n",
       "\n",
       "    .dataframe tbody tr th {\n",
       "        vertical-align: top;\n",
       "    }\n",
       "\n",
       "    .dataframe thead th {\n",
       "        text-align: right;\n",
       "    }\n",
       "</style>\n",
       "<table border=\"1\" class=\"dataframe\">\n",
       "  <thead>\n",
       "    <tr style=\"text-align: right;\">\n",
       "      <th></th>\n",
       "      <th>num_orders</th>\n",
       "    </tr>\n",
       "    <tr>\n",
       "      <th>datetime</th>\n",
       "      <th></th>\n",
       "    </tr>\n",
       "  </thead>\n",
       "  <tbody>\n",
       "    <tr>\n",
       "      <th>2018-04-06 06:00:00</th>\n",
       "      <td>0</td>\n",
       "    </tr>\n",
       "  </tbody>\n",
       "</table>\n",
       "</div>"
      ],
      "text/plain": [
       "                     num_orders\n",
       "datetime                       \n",
       "2018-04-06 06:00:00           0"
      ]
     },
     "execution_count": 13,
     "metadata": {},
     "output_type": "execute_result"
    }
   ],
   "source": [
    "data[data['num_orders'] == 0]"
   ]
  },
  {
   "cell_type": "markdown",
   "metadata": {},
   "source": [
    "Нулевое значения заказов за все время было только один раз, возможно это аномалия"
   ]
  },
  {
   "cell_type": "markdown",
   "metadata": {},
   "source": [
    "Возьмем размером окна скользящего среднего равного часам в сутках.\n",
    "    \n"
   ]
  },
  {
   "cell_type": "code",
   "execution_count": 14,
   "metadata": {},
   "outputs": [
    {
     "data": {
      "image/png": "[encoded data removed]",
      "text/plain": [
       "<Figure size 1080x720 with 1 Axes>"
      ]
     },
     "metadata": {
      "needs_background": "light"
     },
     "output_type": "display_data"
    }
   ],
   "source": [
    "df = data.copy()\n",
    "df['rolling_mean'] = df['num_orders'].rolling(24).mean()\n",
    "df['rolling_std'] = df['num_orders'].rolling(24).std()\n",
    "#Построим график нашего временного ряда\n",
    "\n",
    "fig, ax = plt.subplots(figsize=(15,10))\n",
    "sns.lineplot(x=df.index, y='num_orders', data=df, ax=ax, label='num_orders')\n",
    "sns.lineplot(x=df.index, y='rolling_mean', data=df, ax=ax, label='rolling_mean')\n",
    "sns.lineplot(x=df.index, y='rolling_std', data=df, ax=ax, label='rolling_std')\n",
    "ax.set_title('График временного ряда')\n",
    "ax.set_ylabel('Количество заказов')\n",
    "ax.set_xlabel('Дата')\n",
    "ax.grid(True)"
   ]
  },
  {
   "cell_type": "markdown",
   "metadata": {},
   "source": [
    "На графике можеи наблюдать нестационарный временной ряд\n"
   ]
  },
  {
   "cell_type": "markdown",
   "metadata": {},
   "source": [
    "Возьмем окно скользящего среднего, как количество часов в неделе - 168"
   ]
  },
  {
   "cell_type": "code",
   "execution_count": 15,
   "metadata": {},
   "outputs": [
    {
     "data": {
      "image/png": "[encoded data removed]",
      "text/plain": [
       "<Figure size 504x576 with 1 Axes>"
      ]
     },
     "metadata": {
      "needs_background": "light"
     },
     "output_type": "display_data"
    }
   ],
   "source": [
    "#Построим скользящую среднюю\n",
    "fig, ax = plt.subplots(figsize=(7,8))\n",
    "ax = sns.lineplot(x=data.index, y=data['num_orders'].rolling(168).mean(), data=data)\n",
    "ax.set_title('График скользящего среднего')\n",
    "ax.set_ylabel('Среднее количество заказов')\n",
    "ax.set_xlabel('Дата')\n",
    "ax.grid(True)"
   ]
  },
  {
   "cell_type": "markdown",
   "metadata": {},
   "source": [
    "Теперь можно заметить явно восходящий тренд "
   ]
  },
  {
   "cell_type": "code",
   "execution_count": 16,
   "metadata": {
    "scrolled": true
   },
   "outputs": [
    {
     "data": {
      "image/png": "[encoded data removed]",
      "text/plain": [
       "<Figure size 936x1296 with 3 Axes>"
      ]
     },
     "metadata": {
      "needs_background": "light"
     },
     "output_type": "display_data"
    }
   ],
   "source": [
    "#Проведем анализ временных рядов\n",
    "decomposed = seasonal_decompose(data)\n",
    "\n",
    "plt.figure(figsize=(13, 18))\n",
    "\n",
    "plt.subplot(311)\n",
    "decomposed.trend.plot(ax=plt.gca())\n",
    "plt.title('Trend')\n",
    "\n",
    "plt.subplot(312)\n",
    "decomposed.seasonal.plot(ax=plt.gca())\n",
    "plt.title('Seasonality')\n",
    "\n",
    "plt.subplot(313)\n",
    "decomposed.resid.plot(ax=plt.gca())\n",
    "plt.title('Residuals')\n",
    "plt.tight_layout()"
   ]
  },
  {
   "cell_type": "markdown",
   "metadata": {},
   "source": [
    "Графики показывают высокую частотность, уменьшим интервал:"
   ]
  },
  {
   "cell_type": "markdown",
   "metadata": {},
   "source": [
    "Выведем сезонность в большем масштабе"
   ]
  },
  {
   "cell_type": "code",
   "execution_count": 17,
   "metadata": {},
   "outputs": [
    {
     "data": {
      "image/png": "[encoded data removed]",
      "text/plain": [
       "<Figure size 504x432 with 1 Axes>"
      ]
     },
     "metadata": {
      "needs_background": "light"
     },
     "output_type": "display_data"
    }
   ],
   "source": [
    "plt.figure(figsize=(7, 6))\n",
    "decomposed.seasonal['2018-06-01':'2018-06-07'].plot(ax=plt.gca())\n",
    "plt.title('Seasonality')\n",
    "plt.grid(True)"
   ]
  },
  {
   "cell_type": "markdown",
   "metadata": {},
   "source": [
    "Теперь можно заметить суточную сезонность, к ночи количество заказов резко уменьшается, в то время как, вечером максимальная нагрузка."
   ]
  },
  {
   "cell_type": "markdown",
   "metadata": {},
   "source": [
    "В этом этапе был произведен анализ данных, была выявлена суточная сезонность: \n",
    "- пик заказов приходится на вечер, а ночью количество заказов сильно уменьшается\n",
    "\n",
    "Тренд является восходящим, временной ряд является нестационарным"
   ]
  },
  {
   "cell_type": "markdown",
   "metadata": {},
   "source": [
    "## Обучение"
   ]
  },
  {
   "cell_type": "markdown",
   "metadata": {},
   "source": [
    "### Создание признаков и выборок"
   ]
  },
  {
   "cell_type": "markdown",
   "metadata": {},
   "source": [
    "Напишем функцию для создания признаков"
   ]
  },
  {
   "cell_type": "code",
   "execution_count": 18,
   "metadata": {},
   "outputs": [],
   "source": [
    "def create_features(data, max_log, rolling_size):\n",
    "    data['hour'] = data.index.hour\n",
    "    data['dayofweek'] = data.index.dayofweek\n",
    "    \n",
    "    for i in range(1, max_log+1):\n",
    "        data[f'log_{i}'] = data['num_orders'].shift(i)\n",
    "        \n",
    "    data['mean_roll'] = data['num_orders'].shift().rolling(rolling_size).mean()"
   ]
  },
  {
   "cell_type": "markdown",
   "metadata": {},
   "source": [
    "Исследуем автокорреляцию с помощью PACF и ACF"
   ]
  },
  {
   "cell_type": "code",
   "execution_count": 19,
   "metadata": {
    "scrolled": true
   },
   "outputs": [
    {
     "data": {
      "image/png": "[encoded data removed]",
      "text/plain": [
       "<Figure size 864x288 with 1 Axes>"
      ]
     },
     "metadata": {
      "needs_background": "light"
     },
     "output_type": "display_data"
    },
    {
     "data": {
      "image/png": "[encoded data removed]",
      "text/plain": [
       "<Figure size 864x288 with 1 Axes>"
      ]
     },
     "metadata": {
      "needs_background": "light"
     },
     "output_type": "display_data"
    }
   ],
   "source": [
    "plot_pacf(data, lags=170, alpha=None).set_size_inches(12, 4)\n",
    "plt.title('Частичная автокорреляция (PACF)')\n",
    "plt.grid(True)\n",
    "plt.xticks(np.arange(0, 180, 10))\n",
    "plt.show()\n",
    "\n",
    "\n",
    "# Настройка графиков ACF\n",
    "plot_acf(data, lags=170, alpha=None).set_size_inches(12, 4)\n",
    "plt.title('Автокорреляция (ACF)')\n",
    "plt.xticks(np.arange(0, 180, 10))\n",
    "plt.grid(True)\n",
    "plt.show()"
   ]
  },
  {
   "cell_type": "markdown",
   "metadata": {},
   "source": [
    "Скользящее среднее установим равным неделе"
   ]
  },
  {
   "cell_type": "code",
   "execution_count": 20,
   "metadata": {},
   "outputs": [],
   "source": [
    "create_features(data, 24, 168)"
   ]
  },
  {
   "cell_type": "code",
   "execution_count": 21,
   "metadata": {},
   "outputs": [],
   "source": [
    "data = data.dropna()"
   ]
  },
  {
   "cell_type": "code",
   "execution_count": 22,
   "metadata": {},
   "outputs": [
    {
     "data": {
      "text/html": [
       "<div>\n",
       "<style scoped>\n",
       "    .dataframe tbody tr th:only-of-type {\n",
       "        vertical-align: middle;\n",
       "    }\n",
       "\n",
       "    .dataframe tbody tr th {\n",
       "        vertical-align: top;\n",
       "    }\n",
       "\n",
       "    .dataframe thead th {\n",
       "        text-align: right;\n",
       "    }\n",
       "</style>\n",
       "<table border=\"1\" class=\"dataframe\">\n",
       "  <thead>\n",
       "    <tr style=\"text-align: right;\">\n",
       "      <th></th>\n",
       "      <th>num_orders</th>\n",
       "      <th>hour</th>\n",
       "      <th>dayofweek</th>\n",
       "      <th>log_1</th>\n",
       "      <th>log_2</th>\n",
       "      <th>log_3</th>\n",
       "      <th>log_4</th>\n",
       "      <th>log_5</th>\n",
       "      <th>log_6</th>\n",
       "      <th>log_7</th>\n",
       "      <th>...</th>\n",
       "      <th>log_16</th>\n",
       "      <th>log_17</th>\n",
       "      <th>log_18</th>\n",
       "      <th>log_19</th>\n",
       "      <th>log_20</th>\n",
       "      <th>log_21</th>\n",
       "      <th>log_22</th>\n",
       "      <th>log_23</th>\n",
       "      <th>log_24</th>\n",
       "      <th>mean_roll</th>\n",
       "    </tr>\n",
       "    <tr>\n",
       "      <th>datetime</th>\n",
       "      <th></th>\n",
       "      <th></th>\n",
       "      <th></th>\n",
       "      <th></th>\n",
       "      <th></th>\n",
       "      <th></th>\n",
       "      <th></th>\n",
       "      <th></th>\n",
       "      <th></th>\n",
       "      <th></th>\n",
       "      <th></th>\n",
       "      <th></th>\n",
       "      <th></th>\n",
       "      <th></th>\n",
       "      <th></th>\n",
       "      <th></th>\n",
       "      <th></th>\n",
       "      <th></th>\n",
       "      <th></th>\n",
       "      <th></th>\n",
       "      <th></th>\n",
       "    </tr>\n",
       "  </thead>\n",
       "  <tbody>\n",
       "    <tr>\n",
       "      <th>2018-03-08 00:00:00</th>\n",
       "      <td>143</td>\n",
       "      <td>0</td>\n",
       "      <td>3</td>\n",
       "      <td>94.0</td>\n",
       "      <td>127.0</td>\n",
       "      <td>108.0</td>\n",
       "      <td>76.0</td>\n",
       "      <td>50.0</td>\n",
       "      <td>99.0</td>\n",
       "      <td>48.0</td>\n",
       "      <td>...</td>\n",
       "      <td>38.0</td>\n",
       "      <td>17.0</td>\n",
       "      <td>19.0</td>\n",
       "      <td>10.0</td>\n",
       "      <td>73.0</td>\n",
       "      <td>66.0</td>\n",
       "      <td>24.0</td>\n",
       "      <td>121.0</td>\n",
       "      <td>100.0</td>\n",
       "      <td>54.226190</td>\n",
       "    </tr>\n",
       "    <tr>\n",
       "      <th>2018-03-08 01:00:00</th>\n",
       "      <td>78</td>\n",
       "      <td>1</td>\n",
       "      <td>3</td>\n",
       "      <td>143.0</td>\n",
       "      <td>94.0</td>\n",
       "      <td>127.0</td>\n",
       "      <td>108.0</td>\n",
       "      <td>76.0</td>\n",
       "      <td>50.0</td>\n",
       "      <td>99.0</td>\n",
       "      <td>...</td>\n",
       "      <td>50.0</td>\n",
       "      <td>38.0</td>\n",
       "      <td>17.0</td>\n",
       "      <td>19.0</td>\n",
       "      <td>10.0</td>\n",
       "      <td>73.0</td>\n",
       "      <td>66.0</td>\n",
       "      <td>24.0</td>\n",
       "      <td>121.0</td>\n",
       "      <td>54.339286</td>\n",
       "    </tr>\n",
       "    <tr>\n",
       "      <th>2018-03-08 02:00:00</th>\n",
       "      <td>65</td>\n",
       "      <td>2</td>\n",
       "      <td>3</td>\n",
       "      <td>78.0</td>\n",
       "      <td>143.0</td>\n",
       "      <td>94.0</td>\n",
       "      <td>127.0</td>\n",
       "      <td>108.0</td>\n",
       "      <td>76.0</td>\n",
       "      <td>50.0</td>\n",
       "      <td>...</td>\n",
       "      <td>34.0</td>\n",
       "      <td>50.0</td>\n",
       "      <td>38.0</td>\n",
       "      <td>17.0</td>\n",
       "      <td>19.0</td>\n",
       "      <td>10.0</td>\n",
       "      <td>73.0</td>\n",
       "      <td>66.0</td>\n",
       "      <td>24.0</td>\n",
       "      <td>54.297619</td>\n",
       "    </tr>\n",
       "    <tr>\n",
       "      <th>2018-03-08 03:00:00</th>\n",
       "      <td>68</td>\n",
       "      <td>3</td>\n",
       "      <td>3</td>\n",
       "      <td>65.0</td>\n",
       "      <td>78.0</td>\n",
       "      <td>143.0</td>\n",
       "      <td>94.0</td>\n",
       "      <td>127.0</td>\n",
       "      <td>108.0</td>\n",
       "      <td>76.0</td>\n",
       "      <td>...</td>\n",
       "      <td>58.0</td>\n",
       "      <td>34.0</td>\n",
       "      <td>50.0</td>\n",
       "      <td>38.0</td>\n",
       "      <td>17.0</td>\n",
       "      <td>19.0</td>\n",
       "      <td>10.0</td>\n",
       "      <td>73.0</td>\n",
       "      <td>66.0</td>\n",
       "      <td>54.261905</td>\n",
       "    </tr>\n",
       "    <tr>\n",
       "      <th>2018-03-08 04:00:00</th>\n",
       "      <td>60</td>\n",
       "      <td>4</td>\n",
       "      <td>3</td>\n",
       "      <td>68.0</td>\n",
       "      <td>65.0</td>\n",
       "      <td>78.0</td>\n",
       "      <td>143.0</td>\n",
       "      <td>94.0</td>\n",
       "      <td>127.0</td>\n",
       "      <td>108.0</td>\n",
       "      <td>...</td>\n",
       "      <td>34.0</td>\n",
       "      <td>58.0</td>\n",
       "      <td>34.0</td>\n",
       "      <td>50.0</td>\n",
       "      <td>38.0</td>\n",
       "      <td>17.0</td>\n",
       "      <td>19.0</td>\n",
       "      <td>10.0</td>\n",
       "      <td>73.0</td>\n",
       "      <td>54.273810</td>\n",
       "    </tr>\n",
       "  </tbody>\n",
       "</table>\n",
       "<p>5 rows × 28 columns</p>\n",
       "</div>"
      ],
      "text/plain": [
       "                     num_orders  hour  dayofweek  log_1  log_2  log_3  log_4  \\\n",
       "datetime                                                                       \n",
       "2018-03-08 00:00:00         143     0          3   94.0  127.0  108.0   76.0   \n",
       "2018-03-08 01:00:00          78     1          3  143.0   94.0  127.0  108.0   \n",
       "2018-03-08 02:00:00          65     2          3   78.0  143.0   94.0  127.0   \n",
       "2018-03-08 03:00:00          68     3          3   65.0   78.0  143.0   94.0   \n",
       "2018-03-08 04:00:00          60     4          3   68.0   65.0   78.0  143.0   \n",
       "\n",
       "                     log_5  log_6  log_7  ...  log_16  log_17  log_18  log_19  \\\n",
       "datetime                                  ...                                   \n",
       "2018-03-08 00:00:00   50.0   99.0   48.0  ...    38.0    17.0    19.0    10.0   \n",
       "2018-03-08 01:00:00   76.0   50.0   99.0  ...    50.0    38.0    17.0    19.0   \n",
       "2018-03-08 02:00:00  108.0   76.0   50.0  ...    34.0    50.0    38.0    17.0   \n",
       "2018-03-08 03:00:00  127.0  108.0   76.0  ...    58.0    34.0    50.0    38.0   \n",
       "2018-03-08 04:00:00   94.0  127.0  108.0  ...    34.0    58.0    34.0    50.0   \n",
       "\n",
       "                     log_20  log_21  log_22  log_23  log_24  mean_roll  \n",
       "datetime                                                                \n",
       "2018-03-08 00:00:00    73.0    66.0    24.0   121.0   100.0  54.226190  \n",
       "2018-03-08 01:00:00    10.0    73.0    66.0    24.0   121.0  54.339286  \n",
       "2018-03-08 02:00:00    19.0    10.0    73.0    66.0    24.0  54.297619  \n",
       "2018-03-08 03:00:00    17.0    19.0    10.0    73.0    66.0  54.261905  \n",
       "2018-03-08 04:00:00    38.0    17.0    19.0    10.0    73.0  54.273810  \n",
       "\n",
       "[5 rows x 28 columns]"
      ]
     },
     "execution_count": 22,
     "metadata": {},
     "output_type": "execute_result"
    }
   ],
   "source": [
    "data.head()"
   ]
  },
  {
   "cell_type": "markdown",
   "metadata": {},
   "source": [
    "Разделим данные на тренировочную, валидационную и тестовую выборки"
   ]
  },
  {
   "cell_type": "code",
   "execution_count": 23,
   "metadata": {},
   "outputs": [],
   "source": [
    "X_train, X_test, y_train, y_test = train_test_split(\n",
    "    data.drop('num_orders', axis=1),\n",
    "    data['num_orders'],\n",
    "    test_size=TEST_SIZE,\n",
    "    shuffle=False\n",
    ")"
   ]
  },
  {
   "cell_type": "code",
   "execution_count": 24,
   "metadata": {},
   "outputs": [
    {
     "name": "stdout",
     "output_type": "stream",
     "text": [
      "Размер тренировочной выборки: (3823, 27)\n",
      "Размер тестовой выборки: (425, 27)\n"
     ]
    }
   ],
   "source": [
    "print(f'Размер тренировочной выборки: {X_train.shape}')\n",
    "print(f'Размер тестовой выборки: {X_test.shape}')"
   ]
  },
  {
   "cell_type": "markdown",
   "metadata": {},
   "source": [
    "### CatBoostRegressor"
   ]
  },
  {
   "cell_type": "code",
   "execution_count": 25,
   "metadata": {
    "scrolled": true
   },
   "outputs": [
    {
     "name": "stdout",
     "output_type": "stream",
     "text": [
      "0:\tlearn: 29.3440505\ttotal: 48.3ms\tremaining: 48.3s\n",
      "100:\tlearn: 19.2909148\ttotal: 216ms\tremaining: 1.92s\n",
      "200:\tlearn: 17.2270867\ttotal: 383ms\tremaining: 1.52s\n",
      "300:\tlearn: 16.0702196\ttotal: 543ms\tremaining: 1.26s\n",
      "400:\tlearn: 15.2963395\ttotal: 713ms\tremaining: 1.06s\n",
      "500:\tlearn: 14.5439205\ttotal: 891ms\tremaining: 888ms\n",
      "600:\tlearn: 13.7929198\ttotal: 1.05s\tremaining: 696ms\n",
      "700:\tlearn: 13.1477192\ttotal: 1.2s\tremaining: 511ms\n",
      "800:\tlearn: 12.5509230\ttotal: 1.35s\tremaining: 336ms\n",
      "900:\tlearn: 11.9960543\ttotal: 1.49s\tremaining: 164ms\n",
      "999:\tlearn: 11.4630674\ttotal: 1.64s\tremaining: 0us\n",
      "0:\tlearn: 32.7239335\ttotal: 2.75ms\tremaining: 2.75s\n",
      "100:\tlearn: 21.7463125\ttotal: 214ms\tremaining: 1.9s\n",
      "200:\tlearn: 19.7260463\ttotal: 456ms\tremaining: 1.81s\n",
      "300:\tlearn: 18.7066111\ttotal: 660ms\tremaining: 1.53s\n",
      "400:\tlearn: 17.9144932\ttotal: 848ms\tremaining: 1.27s\n",
      "500:\tlearn: 17.3274105\ttotal: 1.05s\tremaining: 1.04s\n",
      "600:\tlearn: 16.7305098\ttotal: 1.23s\tremaining: 814ms\n",
      "700:\tlearn: 16.1828708\ttotal: 1.42s\tremaining: 607ms\n",
      "800:\tlearn: 15.6645449\ttotal: 1.64s\tremaining: 406ms\n",
      "900:\tlearn: 15.1960372\ttotal: 1.83s\tremaining: 202ms\n",
      "999:\tlearn: 14.7614302\ttotal: 2.05s\tremaining: 0us\n",
      "0:\tlearn: 33.6598194\ttotal: 2.75ms\tremaining: 2.75s\n",
      "100:\tlearn: 22.6710211\ttotal: 228ms\tremaining: 2.03s\n",
      "200:\tlearn: 20.8432979\ttotal: 466ms\tremaining: 1.85s\n",
      "300:\tlearn: 19.9120116\ttotal: 697ms\tremaining: 1.62s\n",
      "400:\tlearn: 19.2447458\ttotal: 912ms\tremaining: 1.36s\n",
      "500:\tlearn: 18.7892006\ttotal: 1.15s\tremaining: 1.14s\n",
      "600:\tlearn: 18.3156424\ttotal: 1.35s\tremaining: 898ms\n",
      "700:\tlearn: 17.8547080\ttotal: 1.55s\tremaining: 663ms\n",
      "800:\tlearn: 17.4237964\ttotal: 1.77s\tremaining: 441ms\n",
      "900:\tlearn: 17.0206249\ttotal: 2s\tremaining: 220ms\n",
      "999:\tlearn: 16.6518241\ttotal: 2.21s\tremaining: 0us\n",
      "0:\tlearn: 28.4090996\ttotal: 1.66ms\tremaining: 1.65s\n",
      "100:\tlearn: 14.9255921\ttotal: 156ms\tremaining: 1.39s\n",
      "200:\tlearn: 11.6186481\ttotal: 322ms\tremaining: 1.28s\n",
      "300:\tlearn: 9.4584683\ttotal: 484ms\tremaining: 1.12s\n",
      "400:\tlearn: 7.7260372\ttotal: 651ms\tremaining: 972ms\n",
      "500:\tlearn: 6.4822713\ttotal: 811ms\tremaining: 808ms\n",
      "600:\tlearn: 5.4711730\ttotal: 971ms\tremaining: 645ms\n",
      "700:\tlearn: 4.6655939\ttotal: 1.15s\tremaining: 489ms\n",
      "800:\tlearn: 4.0257378\ttotal: 1.3s\tremaining: 323ms\n",
      "900:\tlearn: 3.4498263\ttotal: 1.47s\tremaining: 161ms\n",
      "999:\tlearn: 2.9955408\ttotal: 1.62s\tremaining: 0us\n",
      "0:\tlearn: 31.5159210\ttotal: 2.15ms\tremaining: 2.15s\n",
      "100:\tlearn: 17.4193943\ttotal: 191ms\tremaining: 1.7s\n",
      "200:\tlearn: 14.7811871\ttotal: 383ms\tremaining: 1.52s\n",
      "300:\tlearn: 13.1780117\ttotal: 579ms\tremaining: 1.34s\n",
      "400:\tlearn: 11.8706624\ttotal: 779ms\tremaining: 1.16s\n",
      "500:\tlearn: 10.7316440\ttotal: 988ms\tremaining: 984ms\n",
      "600:\tlearn: 9.7035479\ttotal: 1.18s\tremaining: 787ms\n",
      "700:\tlearn: 8.7730470\ttotal: 1.4s\tremaining: 598ms\n",
      "800:\tlearn: 8.0278570\ttotal: 1.63s\tremaining: 406ms\n",
      "900:\tlearn: 7.3474184\ttotal: 1.82s\tremaining: 200ms\n",
      "999:\tlearn: 6.7738750\ttotal: 2.04s\tremaining: 0us\n",
      "0:\tlearn: 32.4497888\ttotal: 4.78ms\tremaining: 4.77s\n",
      "100:\tlearn: 18.8590662\ttotal: 227ms\tremaining: 2.02s\n",
      "200:\tlearn: 16.5493085\ttotal: 461ms\tremaining: 1.83s\n",
      "300:\tlearn: 15.0049396\ttotal: 685ms\tremaining: 1.59s\n",
      "400:\tlearn: 13.7534050\ttotal: 939ms\tremaining: 1.4s\n",
      "500:\tlearn: 12.7781894\ttotal: 1.17s\tremaining: 1.16s\n",
      "600:\tlearn: 11.8863351\ttotal: 1.4s\tremaining: 931ms\n",
      "700:\tlearn: 11.1020661\ttotal: 1.63s\tremaining: 697ms\n",
      "800:\tlearn: 10.3842625\ttotal: 1.85s\tremaining: 459ms\n",
      "900:\tlearn: 9.7385779\ttotal: 2.07s\tremaining: 227ms\n",
      "999:\tlearn: 9.1360619\ttotal: 2.3s\tremaining: 0us\n",
      "0:\tlearn: 29.3430549\ttotal: 5.21ms\tremaining: 5.21s\n",
      "100:\tlearn: 18.2610858\ttotal: 399ms\tremaining: 3.55s\n",
      "200:\tlearn: 15.5841443\ttotal: 781ms\tremaining: 3.1s\n",
      "300:\tlearn: 14.0933984\ttotal: 1.15s\tremaining: 2.67s\n",
      "400:\tlearn: 13.0442092\ttotal: 1.54s\tremaining: 2.29s\n",
      "500:\tlearn: 11.9861381\ttotal: 1.9s\tremaining: 1.9s\n",
      "600:\tlearn: 11.0478670\ttotal: 2.31s\tremaining: 1.53s\n",
      "700:\tlearn: 10.2002643\ttotal: 2.7s\tremaining: 1.15s\n",
      "800:\tlearn: 9.4213188\ttotal: 3.09s\tremaining: 767ms\n",
      "900:\tlearn: 8.6490636\ttotal: 3.49s\tremaining: 383ms\n",
      "999:\tlearn: 7.9640788\ttotal: 3.88s\tremaining: 0us\n",
      "0:\tlearn: 32.7188987\ttotal: 5.68ms\tremaining: 5.68s\n",
      "100:\tlearn: 20.6418089\ttotal: 449ms\tremaining: 4s\n",
      "200:\tlearn: 18.1517437\ttotal: 974ms\tremaining: 3.87s\n",
      "300:\tlearn: 16.8134328\ttotal: 1.45s\tremaining: 3.36s\n",
      "400:\tlearn: 15.8166667\ttotal: 1.93s\tremaining: 2.88s\n",
      "500:\tlearn: 15.1167118\ttotal: 2.39s\tremaining: 2.38s\n",
      "600:\tlearn: 14.2566815\ttotal: 2.91s\tremaining: 1.93s\n",
      "700:\tlearn: 13.4724113\ttotal: 3.42s\tremaining: 1.46s\n",
      "800:\tlearn: 12.6912774\ttotal: 3.89s\tremaining: 967ms\n",
      "900:\tlearn: 12.0808319\ttotal: 4.37s\tremaining: 480ms\n",
      "999:\tlearn: 11.5373897\ttotal: 4.85s\tremaining: 0us\n",
      "0:\tlearn: 33.6553542\ttotal: 6.29ms\tremaining: 6.29s\n",
      "100:\tlearn: 21.7281433\ttotal: 576ms\tremaining: 5.13s\n",
      "200:\tlearn: 19.5997078\ttotal: 1.14s\tremaining: 4.54s\n",
      "300:\tlearn: 18.4675375\ttotal: 1.7s\tremaining: 3.95s\n",
      "400:\tlearn: 17.6163287\ttotal: 2.22s\tremaining: 3.31s\n",
      "500:\tlearn: 16.9367240\ttotal: 2.77s\tremaining: 2.75s\n",
      "600:\tlearn: 16.1916226\ttotal: 3.34s\tremaining: 2.22s\n",
      "700:\tlearn: 15.4805447\ttotal: 3.86s\tremaining: 1.65s\n",
      "800:\tlearn: 14.8605605\ttotal: 4.45s\tremaining: 1.1s\n",
      "900:\tlearn: 14.3281380\ttotal: 5.03s\tremaining: 553ms\n",
      "999:\tlearn: 13.8296750\ttotal: 5.58s\tremaining: 0us\n",
      "0:\tlearn: 28.4021824\ttotal: 6.25ms\tremaining: 6.24s\n",
      "100:\tlearn: 12.0276800\ttotal: 455ms\tremaining: 4.05s\n",
      "200:\tlearn: 8.0860600\ttotal: 844ms\tremaining: 3.35s\n",
      "300:\tlearn: 5.5601977\ttotal: 1.19s\tremaining: 2.77s\n",
      "400:\tlearn: 3.8014770\ttotal: 1.54s\tremaining: 2.3s\n",
      "500:\tlearn: 2.7533874\ttotal: 1.9s\tremaining: 1.9s\n",
      "600:\tlearn: 2.0334394\ttotal: 2.32s\tremaining: 1.54s\n",
      "700:\tlearn: 1.4706479\ttotal: 2.71s\tremaining: 1.15s\n",
      "800:\tlearn: 1.0579755\ttotal: 3.07s\tremaining: 763ms\n",
      "900:\tlearn: 0.7635436\ttotal: 3.44s\tremaining: 378ms\n",
      "999:\tlearn: 0.5664219\ttotal: 3.81s\tremaining: 0us\n",
      "0:\tlearn: 31.4899020\ttotal: 9.82ms\tremaining: 9.81s\n",
      "100:\tlearn: 14.9083583\ttotal: 497ms\tremaining: 4.42s\n",
      "200:\tlearn: 11.5167344\ttotal: 963ms\tremaining: 3.83s\n",
      "300:\tlearn: 9.3895968\ttotal: 1.47s\tremaining: 3.41s\n",
      "400:\tlearn: 7.7263655\ttotal: 1.94s\tremaining: 2.89s\n",
      "500:\tlearn: 6.2549395\ttotal: 2.39s\tremaining: 2.38s\n",
      "600:\tlearn: 5.2504366\ttotal: 2.85s\tremaining: 1.89s\n",
      "700:\tlearn: 4.3507342\ttotal: 3.37s\tremaining: 1.44s\n",
      "800:\tlearn: 3.6158285\ttotal: 3.9s\tremaining: 968ms\n",
      "900:\tlearn: 3.0381004\ttotal: 4.4s\tremaining: 483ms\n",
      "999:\tlearn: 2.5447624\ttotal: 4.94s\tremaining: 0us\n",
      "0:\tlearn: 32.4263703\ttotal: 5.46ms\tremaining: 5.45s\n",
      "100:\tlearn: 16.8716116\ttotal: 520ms\tremaining: 4.63s\n",
      "200:\tlearn: 13.7422776\ttotal: 1.02s\tremaining: 4.05s\n",
      "300:\tlearn: 11.5806857\ttotal: 1.57s\tremaining: 3.64s\n",
      "400:\tlearn: 9.9284254\ttotal: 2.12s\tremaining: 3.17s\n",
      "500:\tlearn: 8.6611355\ttotal: 2.64s\tremaining: 2.63s\n",
      "600:\tlearn: 7.4878787\ttotal: 3.17s\tremaining: 2.1s\n",
      "700:\tlearn: 6.5139901\ttotal: 3.72s\tremaining: 1.58s\n",
      "800:\tlearn: 5.7149231\ttotal: 4.25s\tremaining: 1.06s\n",
      "900:\tlearn: 5.0043352\ttotal: 4.75s\tremaining: 522ms\n",
      "999:\tlearn: 4.3796722\ttotal: 5.33s\tremaining: 0us\n",
      "0:\tlearn: 29.3397298\ttotal: 34.7ms\tremaining: 34.6s\n",
      "100:\tlearn: 16.2166846\ttotal: 3.82s\tremaining: 34s\n",
      "200:\tlearn: 11.6550877\ttotal: 7.52s\tremaining: 29.9s\n",
      "300:\tlearn: 9.0770235\ttotal: 11.2s\tremaining: 26.1s\n",
      "400:\tlearn: 7.3728236\ttotal: 14.6s\tremaining: 21.8s\n",
      "500:\tlearn: 6.2957684\ttotal: 18.2s\tremaining: 18.2s\n",
      "600:\tlearn: 5.2100927\ttotal: 21.9s\tremaining: 14.5s\n",
      "700:\tlearn: 4.2757127\ttotal: 25.6s\tremaining: 10.9s\n",
      "800:\tlearn: 3.5573683\ttotal: 29.1s\tremaining: 7.22s\n",
      "900:\tlearn: 2.9780709\ttotal: 32.8s\tremaining: 3.6s\n",
      "999:\tlearn: 2.5034727\ttotal: 36.4s\tremaining: 0us\n",
      "0:\tlearn: 32.7068549\ttotal: 42.3ms\tremaining: 42.2s\n",
      "100:\tlearn: 18.5354864\ttotal: 4.47s\tremaining: 39.8s\n",
      "200:\tlearn: 14.4807083\ttotal: 9.16s\tremaining: 36.4s\n",
      "300:\tlearn: 12.1080948\ttotal: 13.9s\tremaining: 32.4s\n",
      "400:\tlearn: 10.4438105\ttotal: 18.7s\tremaining: 27.9s\n",
      "500:\tlearn: 9.1485054\ttotal: 23.4s\tremaining: 23.3s\n",
      "600:\tlearn: 8.0936488\ttotal: 27.8s\tremaining: 18.4s\n",
      "700:\tlearn: 7.1571350\ttotal: 32.4s\tremaining: 13.8s\n",
      "800:\tlearn: 6.3273290\ttotal: 36.8s\tremaining: 9.14s\n",
      "900:\tlearn: 5.6138524\ttotal: 41.3s\tremaining: 4.54s\n",
      "999:\tlearn: 5.0316376\ttotal: 45.9s\tremaining: 0us\n",
      "0:\tlearn: 33.6297130\ttotal: 43.2ms\tremaining: 43.1s\n",
      "100:\tlearn: 19.6541055\ttotal: 4.88s\tremaining: 43.4s\n",
      "200:\tlearn: 16.0906642\ttotal: 10.7s\tremaining: 42.7s\n",
      "300:\tlearn: 14.0874297\ttotal: 15.7s\tremaining: 36.5s\n",
      "400:\tlearn: 12.5976120\ttotal: 20.9s\tremaining: 31.2s\n",
      "500:\tlearn: 11.4849670\ttotal: 25.7s\tremaining: 25.6s\n",
      "600:\tlearn: 10.2850548\ttotal: 30.7s\tremaining: 20.4s\n",
      "700:\tlearn: 9.2891535\ttotal: 35.8s\tremaining: 15.3s\n",
      "800:\tlearn: 8.3950295\ttotal: 40.6s\tremaining: 10.1s\n",
      "900:\tlearn: 7.5485993\ttotal: 45.5s\tremaining: 5s\n",
      "999:\tlearn: 6.8310461\ttotal: 50.3s\tremaining: 0us\n",
      "0:\tlearn: 28.3785263\ttotal: 42ms\tremaining: 42s\n",
      "100:\tlearn: 6.1174880\ttotal: 3.75s\tremaining: 33.4s\n",
      "200:\tlearn: 2.3417080\ttotal: 7.25s\tremaining: 28.8s\n",
      "300:\tlearn: 0.9392659\ttotal: 11s\tremaining: 25.6s\n",
      "400:\tlearn: 0.4054304\ttotal: 14.6s\tremaining: 21.8s\n",
      "500:\tlearn: 0.1694406\ttotal: 18.3s\tremaining: 18.3s\n",
      "600:\tlearn: 0.0721186\ttotal: 22s\tremaining: 14.6s\n",
      "700:\tlearn: 0.0333885\ttotal: 25.6s\tremaining: 10.9s\n",
      "800:\tlearn: 0.0143459\ttotal: 29.1s\tremaining: 7.22s\n",
      "900:\tlearn: 0.0057534\ttotal: 32.7s\tremaining: 3.59s\n",
      "999:\tlearn: 0.0026230\ttotal: 36.2s\tremaining: 0us\n",
      "0:\tlearn: 31.4269120\ttotal: 51ms\tremaining: 50.9s\n",
      "100:\tlearn: 9.2330048\ttotal: 4.61s\tremaining: 41s\n",
      "200:\tlearn: 5.0693556\ttotal: 9.04s\tremaining: 36s\n",
      "300:\tlearn: 2.7242525\ttotal: 13.4s\tremaining: 31.2s\n",
      "400:\tlearn: 1.5489607\ttotal: 18s\tremaining: 26.9s\n",
      "500:\tlearn: 0.8952631\ttotal: 22.7s\tremaining: 22.6s\n",
      "600:\tlearn: 0.5325976\ttotal: 27.5s\tremaining: 18.2s\n",
      "700:\tlearn: 0.3114455\ttotal: 32.2s\tremaining: 13.7s\n",
      "800:\tlearn: 0.1773877\ttotal: 36.9s\tremaining: 9.17s\n",
      "900:\tlearn: 0.1039084\ttotal: 41.6s\tremaining: 4.57s\n",
      "999:\tlearn: 0.0571333\ttotal: 46.4s\tremaining: 0us\n",
      "0:\tlearn: 32.2946028\ttotal: 49.2ms\tremaining: 49.1s\n",
      "100:\tlearn: 11.2944979\ttotal: 4.97s\tremaining: 44.3s\n",
      "200:\tlearn: 6.7640293\ttotal: 9.95s\tremaining: 39.6s\n",
      "300:\tlearn: 4.1899250\ttotal: 15.1s\tremaining: 35s\n",
      "400:\tlearn: 2.5983976\ttotal: 20.1s\tremaining: 30s\n",
      "500:\tlearn: 1.6456524\ttotal: 25.2s\tremaining: 25.1s\n",
      "600:\tlearn: 1.1195303\ttotal: 30.2s\tremaining: 20s\n",
      "700:\tlearn: 0.7197466\ttotal: 35.1s\tremaining: 15s\n",
      "800:\tlearn: 0.4560525\ttotal: 40.2s\tremaining: 10s\n",
      "900:\tlearn: 0.2940619\ttotal: 45.3s\tremaining: 4.98s\n",
      "999:\tlearn: 0.1868584\ttotal: 50.3s\tremaining: 0us\n",
      "0:\tlearn: 38.4761982\ttotal: 10.4ms\tremaining: 10.4s\n",
      "100:\tlearn: 24.3708783\ttotal: 680ms\tremaining: 6.05s\n",
      "200:\tlearn: 22.3703354\ttotal: 1.33s\tremaining: 5.28s\n",
      "300:\tlearn: 21.3808341\ttotal: 1.92s\tremaining: 4.45s\n",
      "400:\tlearn: 20.3019216\ttotal: 2.57s\tremaining: 3.85s\n",
      "500:\tlearn: 19.5807941\ttotal: 3.29s\tremaining: 3.28s\n",
      "600:\tlearn: 18.8232865\ttotal: 3.95s\tremaining: 2.62s\n",
      "700:\tlearn: 18.0705430\ttotal: 4.63s\tremaining: 1.97s\n",
      "800:\tlearn: 17.4062954\ttotal: 5.29s\tremaining: 1.31s\n",
      "900:\tlearn: 16.7977235\ttotal: 5.9s\tremaining: 648ms\n",
      "999:\tlearn: 16.2276032\ttotal: 6.5s\tremaining: 0us\n"
     ]
    },
    {
     "data": {
      "text/html": [
       "<style>#sk-container-id-1 {\n",
       "  /* Definition of color scheme common for light and dark mode */\n",
       "  --sklearn-color-text: black;\n",
       "  --sklearn-color-line: gray;\n",
       "  /* Definition of color scheme for unfitted estimators */\n",
       "  --sklearn-color-unfitted-level-0: #fff5e6;\n",
       "  --sklearn-color-unfitted-level-1: #f6e4d2;\n",
       "  --sklearn-color-unfitted-level-2: #ffe0b3;\n",
       "  --sklearn-color-unfitted-level-3: chocolate;\n",
       "  /* Definition of color scheme for fitted estimators */\n",
       "  --sklearn-color-fitted-level-0: #f0f8ff;\n",
       "  --sklearn-color-fitted-level-1: #d4ebff;\n",
       "  --sklearn-color-fitted-level-2: #b3dbfd;\n",
       "  --sklearn-color-fitted-level-3: cornflowerblue;\n",
       "\n",
       "  /* Specific color for light theme */\n",
       "  --sklearn-color-text-on-default-background: var(--sg-text-color, var(--theme-code-foreground, var(--jp-content-font-color1, black)));\n",
       "  --sklearn-color-background: var(--sg-background-color, var(--theme-background, var(--jp-layout-color0, white)));\n",
       "  --sklearn-color-border-box: var(--sg-text-color, var(--theme-code-foreground, var(--jp-content-font-color1, black)));\n",
       "  --sklearn-color-icon: #696969;\n",
       "\n",
       "  @media (prefers-color-scheme: dark) {\n",
       "    /* Redefinition of color scheme for dark theme */\n",
       "    --sklearn-color-text-on-default-background: var(--sg-text-color, var(--theme-code-foreground, var(--jp-content-font-color1, white)));\n",
       "    --sklearn-color-background: var(--sg-background-color, var(--theme-background, var(--jp-layout-color0, #111)));\n",
       "    --sklearn-color-border-box: var(--sg-text-color, var(--theme-code-foreground, var(--jp-content-font-color1, white)));\n",
       "    --sklearn-color-icon: #878787;\n",
       "  }\n",
       "}\n",
       "\n",
       "#sk-container-id-1 {\n",
       "  color: var(--sklearn-color-text);\n",
       "}\n",
       "\n",
       "#sk-container-id-1 pre {\n",
       "  padding: 0;\n",
       "}\n",
       "\n",
       "#sk-container-id-1 input.sk-hidden--visually {\n",
       "  border: 0;\n",
       "  clip: rect(1px 1px 1px 1px);\n",
       "  clip: rect(1px, 1px, 1px, 1px);\n",
       "  height: 1px;\n",
       "  margin: -1px;\n",
       "  overflow: hidden;\n",
       "  padding: 0;\n",
       "  position: absolute;\n",
       "  width: 1px;\n",
       "}\n",
       "\n",
       "#sk-container-id-1 div.sk-dashed-wrapped {\n",
       "  border: 1px dashed var(--sklearn-color-line);\n",
       "  margin: 0 0.4em 0.5em 0.4em;\n",
       "  box-sizing: border-box;\n",
       "  padding-bottom: 0.4em;\n",
       "  background-color: var(--sklearn-color-background);\n",
       "}\n",
       "\n",
       "#sk-container-id-1 div.sk-container {\n",
       "  /* jupyter's `normalize.less` sets `[hidden] { display: none; }`\n",
       "     but bootstrap.min.css set `[hidden] { display: none !important; }`\n",
       "     so we also need the `!important` here to be able to override the\n",
       "     default hidden behavior on the sphinx rendered scikit-learn.org.\n",
       "     See: https://github.com/scikit-learn/scikit-learn/issues/21755 */\n",
       "  display: inline-block !important;\n",
       "  position: relative;\n",
       "}\n",
       "\n",
       "#sk-container-id-1 div.sk-text-repr-fallback {\n",
       "  display: none;\n",
       "}\n",
       "\n",
       "div.sk-parallel-item,\n",
       "div.sk-serial,\n",
       "div.sk-item {\n",
       "  /* draw centered vertical line to link estimators */\n",
       "  background-image: linear-gradient(var(--sklearn-color-text-on-default-background), var(--sklearn-color-text-on-default-background));\n",
       "  background-size: 2px 100%;\n",
       "  background-repeat: no-repeat;\n",
       "  background-position: center center;\n",
       "}\n",
       "\n",
       "/* Parallel-specific style estimator block */\n",
       "\n",
       "#sk-container-id-1 div.sk-parallel-item::after {\n",
       "  content: \"\";\n",
       "  width: 100%;\n",
       "  border-bottom: 2px solid var(--sklearn-color-text-on-default-background);\n",
       "  flex-grow: 1;\n",
       "}\n",
       "\n",
       "#sk-container-id-1 div.sk-parallel {\n",
       "  display: flex;\n",
       "  align-items: stretch;\n",
       "  justify-content: center;\n",
       "  background-color: var(--sklearn-color-background);\n",
       "  position: relative;\n",
       "}\n",
       "\n",
       "#sk-container-id-1 div.sk-parallel-item {\n",
       "  display: flex;\n",
       "  flex-direction: column;\n",
       "}\n",
       "\n",
       "#sk-container-id-1 div.sk-parallel-item:first-child::after {\n",
       "  align-self: flex-end;\n",
       "  width: 50%;\n",
       "}\n",
       "\n",
       "#sk-container-id-1 div.sk-parallel-item:last-child::after {\n",
       "  align-self: flex-start;\n",
       "  width: 50%;\n",
       "}\n",
       "\n",
       "#sk-container-id-1 div.sk-parallel-item:only-child::after {\n",
       "  width: 0;\n",
       "}\n",
       "\n",
       "/* Serial-specific style estimator block */\n",
       "\n",
       "#sk-container-id-1 div.sk-serial {\n",
       "  display: flex;\n",
       "  flex-direction: column;\n",
       "  align-items: center;\n",
       "  background-color: var(--sklearn-color-background);\n",
       "  padding-right: 1em;\n",
       "  padding-left: 1em;\n",
       "}\n",
       "\n",
       "\n",
       "/* Toggleable style: style used for estimator/Pipeline/ColumnTransformer box that is\n",
       "clickable and can be expanded/collapsed.\n",
       "- Pipeline and ColumnTransformer use this feature and define the default style\n",
       "- Estimators will overwrite some part of the style using the `sk-estimator` class\n",
       "*/\n",
       "\n",
       "/* Pipeline and ColumnTransformer style (default) */\n",
       "\n",
       "#sk-container-id-1 div.sk-toggleable {\n",
       "  /* Default theme specific background. It is overwritten whether we have a\n",
       "  specific estimator or a Pipeline/ColumnTransformer */\n",
       "  background-color: var(--sklearn-color-background);\n",
       "}\n",
       "\n",
       "/* Toggleable label */\n",
       "#sk-container-id-1 label.sk-toggleable__label {\n",
       "  cursor: pointer;\n",
       "  display: block;\n",
       "  width: 100%;\n",
       "  margin-bottom: 0;\n",
       "  padding: 0.5em;\n",
       "  box-sizing: border-box;\n",
       "  text-align: center;\n",
       "}\n",
       "\n",
       "#sk-container-id-1 label.sk-toggleable__label-arrow:before {\n",
       "  /* Arrow on the left of the label */\n",
       "  content: \"▸\";\n",
       "  float: left;\n",
       "  margin-right: 0.25em;\n",
       "  color: var(--sklearn-color-icon);\n",
       "}\n",
       "\n",
       "#sk-container-id-1 label.sk-toggleable__label-arrow:hover:before {\n",
       "  color: var(--sklearn-color-text);\n",
       "}\n",
       "\n",
       "/* Toggleable content - dropdown */\n",
       "\n",
       "#sk-container-id-1 div.sk-toggleable__content {\n",
       "  max-height: 0;\n",
       "  max-width: 0;\n",
       "  overflow: hidden;\n",
       "  text-align: left;\n",
       "  /* unfitted */\n",
       "  background-color: var(--sklearn-color-unfitted-level-0);\n",
       "}\n",
       "\n",
       "#sk-container-id-1 div.sk-toggleable__content.fitted {\n",
       "  /* fitted */\n",
       "  background-color: var(--sklearn-color-fitted-level-0);\n",
       "}\n",
       "\n",
       "#sk-container-id-1 div.sk-toggleable__content pre {\n",
       "  margin: 0.2em;\n",
       "  border-radius: 0.25em;\n",
       "  color: var(--sklearn-color-text);\n",
       "  /* unfitted */\n",
       "  background-color: var(--sklearn-color-unfitted-level-0);\n",
       "}\n",
       "\n",
       "#sk-container-id-1 div.sk-toggleable__content.fitted pre {\n",
       "  /* unfitted */\n",
       "  background-color: var(--sklearn-color-fitted-level-0);\n",
       "}\n",
       "\n",
       "#sk-container-id-1 input.sk-toggleable__control:checked~div.sk-toggleable__content {\n",
       "  /* Expand drop-down */\n",
       "  max-height: 200px;\n",
       "  max-width: 100%;\n",
       "  overflow: auto;\n",
       "}\n",
       "\n",
       "#sk-container-id-1 input.sk-toggleable__control:checked~label.sk-toggleable__label-arrow:before {\n",
       "  content: \"▾\";\n",
       "}\n",
       "\n",
       "/* Pipeline/ColumnTransformer-specific style */\n",
       "\n",
       "#sk-container-id-1 div.sk-label input.sk-toggleable__control:checked~label.sk-toggleable__label {\n",
       "  color: var(--sklearn-color-text);\n",
       "  background-color: var(--sklearn-color-unfitted-level-2);\n",
       "}\n",
       "\n",
       "#sk-container-id-1 div.sk-label.fitted input.sk-toggleable__control:checked~label.sk-toggleable__label {\n",
       "  background-color: var(--sklearn-color-fitted-level-2);\n",
       "}\n",
       "\n",
       "/* Estimator-specific style */\n",
       "\n",
       "/* Colorize estimator box */\n",
       "#sk-container-id-1 div.sk-estimator input.sk-toggleable__control:checked~label.sk-toggleable__label {\n",
       "  /* unfitted */\n",
       "  background-color: var(--sklearn-color-unfitted-level-2);\n",
       "}\n",
       "\n",
       "#sk-container-id-1 div.sk-estimator.fitted input.sk-toggleable__control:checked~label.sk-toggleable__label {\n",
       "  /* fitted */\n",
       "  background-color: var(--sklearn-color-fitted-level-2);\n",
       "}\n",
       "\n",
       "#sk-container-id-1 div.sk-label label.sk-toggleable__label,\n",
       "#sk-container-id-1 div.sk-label label {\n",
       "  /* The background is the default theme color */\n",
       "  color: var(--sklearn-color-text-on-default-background);\n",
       "}\n",
       "\n",
       "/* On hover, darken the color of the background */\n",
       "#sk-container-id-1 div.sk-label:hover label.sk-toggleable__label {\n",
       "  color: var(--sklearn-color-text);\n",
       "  background-color: var(--sklearn-color-unfitted-level-2);\n",
       "}\n",
       "\n",
       "/* Label box, darken color on hover, fitted */\n",
       "#sk-container-id-1 div.sk-label.fitted:hover label.sk-toggleable__label.fitted {\n",
       "  color: var(--sklearn-color-text);\n",
       "  background-color: var(--sklearn-color-fitted-level-2);\n",
       "}\n",
       "\n",
       "/* Estimator label */\n",
       "\n",
       "#sk-container-id-1 div.sk-label label {\n",
       "  font-family: monospace;\n",
       "  font-weight: bold;\n",
       "  display: inline-block;\n",
       "  line-height: 1.2em;\n",
       "}\n",
       "\n",
       "#sk-container-id-1 div.sk-label-container {\n",
       "  text-align: center;\n",
       "}\n",
       "\n",
       "/* Estimator-specific */\n",
       "#sk-container-id-1 div.sk-estimator {\n",
       "  font-family: monospace;\n",
       "  border: 1px dotted var(--sklearn-color-border-box);\n",
       "  border-radius: 0.25em;\n",
       "  box-sizing: border-box;\n",
       "  margin-bottom: 0.5em;\n",
       "  /* unfitted */\n",
       "  background-color: var(--sklearn-color-unfitted-level-0);\n",
       "}\n",
       "\n",
       "#sk-container-id-1 div.sk-estimator.fitted {\n",
       "  /* fitted */\n",
       "  background-color: var(--sklearn-color-fitted-level-0);\n",
       "}\n",
       "\n",
       "/* on hover */\n",
       "#sk-container-id-1 div.sk-estimator:hover {\n",
       "  /* unfitted */\n",
       "  background-color: var(--sklearn-color-unfitted-level-2);\n",
       "}\n",
       "\n",
       "#sk-container-id-1 div.sk-estimator.fitted:hover {\n",
       "  /* fitted */\n",
       "  background-color: var(--sklearn-color-fitted-level-2);\n",
       "}\n",
       "\n",
       "/* Specification for estimator info (e.g. \"i\" and \"?\") */\n",
       "\n",
       "/* Common style for \"i\" and \"?\" */\n",
       "\n",
       ".sk-estimator-doc-link,\n",
       "a:link.sk-estimator-doc-link,\n",
       "a:visited.sk-estimator-doc-link {\n",
       "  float: right;\n",
       "  font-size: smaller;\n",
       "  line-height: 1em;\n",
       "  font-family: monospace;\n",
       "  background-color: var(--sklearn-color-background);\n",
       "  border-radius: 1em;\n",
       "  height: 1em;\n",
       "  width: 1em;\n",
       "  text-decoration: none !important;\n",
       "  margin-left: 1ex;\n",
       "  /* unfitted */\n",
       "  border: var(--sklearn-color-unfitted-level-1) 1pt solid;\n",
       "  color: var(--sklearn-color-unfitted-level-1);\n",
       "}\n",
       "\n",
       ".sk-estimator-doc-link.fitted,\n",
       "a:link.sk-estimator-doc-link.fitted,\n",
       "a:visited.sk-estimator-doc-link.fitted {\n",
       "  /* fitted */\n",
       "  border: var(--sklearn-color-fitted-level-1) 1pt solid;\n",
       "  color: var(--sklearn-color-fitted-level-1);\n",
       "}\n",
       "\n",
       "/* On hover */\n",
       "div.sk-estimator:hover .sk-estimator-doc-link:hover,\n",
       ".sk-estimator-doc-link:hover,\n",
       "div.sk-label-container:hover .sk-estimator-doc-link:hover,\n",
       ".sk-estimator-doc-link:hover {\n",
       "  /* unfitted */\n",
       "  background-color: var(--sklearn-color-unfitted-level-3);\n",
       "  color: var(--sklearn-color-background);\n",
       "  text-decoration: none;\n",
       "}\n",
       "\n",
       "div.sk-estimator.fitted:hover .sk-estimator-doc-link.fitted:hover,\n",
       ".sk-estimator-doc-link.fitted:hover,\n",
       "div.sk-label-container:hover .sk-estimator-doc-link.fitted:hover,\n",
       ".sk-estimator-doc-link.fitted:hover {\n",
       "  /* fitted */\n",
       "  background-color: var(--sklearn-color-fitted-level-3);\n",
       "  color: var(--sklearn-color-background);\n",
       "  text-decoration: none;\n",
       "}\n",
       "\n",
       "/* Span, style for the box shown on hovering the info icon */\n",
       ".sk-estimator-doc-link span {\n",
       "  display: none;\n",
       "  z-index: 9999;\n",
       "  position: relative;\n",
       "  font-weight: normal;\n",
       "  right: .2ex;\n",
       "  padding: .5ex;\n",
       "  margin: .5ex;\n",
       "  width: min-content;\n",
       "  min-width: 20ex;\n",
       "  max-width: 50ex;\n",
       "  color: var(--sklearn-color-text);\n",
       "  box-shadow: 2pt 2pt 4pt #999;\n",
       "  /* unfitted */\n",
       "  background: var(--sklearn-color-unfitted-level-0);\n",
       "  border: .5pt solid var(--sklearn-color-unfitted-level-3);\n",
       "}\n",
       "\n",
       ".sk-estimator-doc-link.fitted span {\n",
       "  /* fitted */\n",
       "  background: var(--sklearn-color-fitted-level-0);\n",
       "  border: var(--sklearn-color-fitted-level-3);\n",
       "}\n",
       "\n",
       ".sk-estimator-doc-link:hover span {\n",
       "  display: block;\n",
       "}\n",
       "\n",
       "/* \"?\"-specific style due to the `<a>` HTML tag */\n",
       "\n",
       "#sk-container-id-1 a.estimator_doc_link {\n",
       "  float: right;\n",
       "  font-size: 1rem;\n",
       "  line-height: 1em;\n",
       "  font-family: monospace;\n",
       "  background-color: var(--sklearn-color-background);\n",
       "  border-radius: 1rem;\n",
       "  height: 1rem;\n",
       "  width: 1rem;\n",
       "  text-decoration: none;\n",
       "  /* unfitted */\n",
       "  color: var(--sklearn-color-unfitted-level-1);\n",
       "  border: var(--sklearn-color-unfitted-level-1) 1pt solid;\n",
       "}\n",
       "\n",
       "#sk-container-id-1 a.estimator_doc_link.fitted {\n",
       "  /* fitted */\n",
       "  border: var(--sklearn-color-fitted-level-1) 1pt solid;\n",
       "  color: var(--sklearn-color-fitted-level-1);\n",
       "}\n",
       "\n",
       "/* On hover */\n",
       "#sk-container-id-1 a.estimator_doc_link:hover {\n",
       "  /* unfitted */\n",
       "  background-color: var(--sklearn-color-unfitted-level-3);\n",
       "  color: var(--sklearn-color-background);\n",
       "  text-decoration: none;\n",
       "}\n",
       "\n",
       "#sk-container-id-1 a.estimator_doc_link.fitted:hover {\n",
       "  /* fitted */\n",
       "  background-color: var(--sklearn-color-fitted-level-3);\n",
       "}\n",
       "</style><div id=\"sk-container-id-1\" class=\"sk-top-container\"><div class=\"sk-text-repr-fallback\"><pre>GridSearchCV(cv=&lt;generator object TimeSeriesSplit._split at 0x7fadc1f0bf90&gt;,\n",
       "             estimator=&lt;catboost.core.CatBoostRegressor object at 0x7fadcb840310&gt;,\n",
       "             param_grid={&#x27;depth&#x27;: [4, 6, 10], &#x27;learning_rate&#x27;: [0.02, 0.1]},\n",
       "             scoring=&#x27;neg_root_mean_squared_error&#x27;)</pre><b>In a Jupyter environment, please rerun this cell to show the HTML representation or trust the notebook. <br />On GitHub, the HTML representation is unable to render, please try loading this page with nbviewer.org.</b></div><div class=\"sk-container\" hidden><div class=\"sk-item sk-dashed-wrapped\"><div class=\"sk-label-container\"><div class=\"sk-label fitted sk-toggleable\"><input class=\"sk-toggleable__control sk-hidden--visually\" id=\"sk-estimator-id-1\" type=\"checkbox\" ><label for=\"sk-estimator-id-1\" class=\"sk-toggleable__label fitted sk-toggleable__label-arrow fitted\">&nbsp;&nbsp;GridSearchCV<a class=\"sk-estimator-doc-link fitted\" rel=\"noreferrer\" target=\"_blank\" href=\"https://scikit-learn.org/1.5/modules/generated/sklearn.model_selection.GridSearchCV.html\">?<span>Documentation for GridSearchCV</span></a><span class=\"sk-estimator-doc-link fitted\">i<span>Fitted</span></span></label><div class=\"sk-toggleable__content fitted\"><pre>GridSearchCV(cv=&lt;generator object TimeSeriesSplit._split at 0x7fadc1f0bf90&gt;,\n",
       "             estimator=&lt;catboost.core.CatBoostRegressor object at 0x7fadcb840310&gt;,\n",
       "             param_grid={&#x27;depth&#x27;: [4, 6, 10], &#x27;learning_rate&#x27;: [0.02, 0.1]},\n",
       "             scoring=&#x27;neg_root_mean_squared_error&#x27;)</pre></div> </div></div><div class=\"sk-parallel\"><div class=\"sk-parallel-item\"><div class=\"sk-item\"><div class=\"sk-label-container\"><div class=\"sk-label fitted sk-toggleable\"><input class=\"sk-toggleable__control sk-hidden--visually\" id=\"sk-estimator-id-2\" type=\"checkbox\" ><label for=\"sk-estimator-id-2\" class=\"sk-toggleable__label fitted sk-toggleable__label-arrow fitted\">best_estimator_: CatBoostRegressor</label><div class=\"sk-toggleable__content fitted\"><pre>&lt;catboost.core.CatBoostRegressor object at 0x7fadcb88ffd0&gt;</pre></div> </div></div><div class=\"sk-serial\"><div class=\"sk-item\"><div class=\"sk-estimator fitted sk-toggleable\"><input class=\"sk-toggleable__control sk-hidden--visually\" id=\"sk-estimator-id-3\" type=\"checkbox\" ><label for=\"sk-estimator-id-3\" class=\"sk-toggleable__label fitted sk-toggleable__label-arrow fitted\">CatBoostRegressor</label><div class=\"sk-toggleable__content fitted\"><pre>&lt;catboost.core.CatBoostRegressor object at 0x7fadcb88ffd0&gt;</pre></div> </div></div></div></div></div></div></div></div></div>"
      ],
      "text/plain": [
       "GridSearchCV(cv=<generator object TimeSeriesSplit._split at 0x7fadc1f0bf90>,\n",
       "             estimator=<catboost.core.CatBoostRegressor object at 0x7fadcb840310>,\n",
       "             param_grid={'depth': [4, 6, 10], 'learning_rate': [0.02, 0.1]},\n",
       "             scoring='neg_root_mean_squared_error')"
      ]
     },
     "execution_count": 25,
     "metadata": {},
     "output_type": "execute_result"
    }
   ],
   "source": [
    "params = {\n",
    "    'iterations': 1000,\n",
    "    'random_seed': RANDOM_STATE,\n",
    "    'early_stopping_rounds': 50\n",
    "}\n",
    "\n",
    "param_grid = {\n",
    "    'learning_rate': [0.02, 0.1],\n",
    "    'depth': [4, 6, 10]\n",
    "}\n",
    "\n",
    "\n",
    "model_catboost = CatBoostRegressor(**params)\n",
    "\n",
    "new_cv = TimeSeriesSplit(n_splits=3).split(X_train)\n",
    "\n",
    "cb_grid = GridSearchCV(model_catboost, param_grid, scoring='neg_root_mean_squared_error', cv=new_cv)\n",
    "cb_grid.fit(X_train, y_train, verbose=100)"
   ]
  },
  {
   "cell_type": "code",
   "execution_count": 26,
   "metadata": {},
   "outputs": [
    {
     "name": "stdout",
     "output_type": "stream",
     "text": [
      "Лучшие гиперпараметры: {'depth': 6, 'learning_rate': 0.02}\n",
      "Лучшая метрика: 26.22\n"
     ]
    }
   ],
   "source": [
    "print(f'Лучшие гиперпараметры: {cb_grid.best_params_}')\n",
    "print(f'Лучшая метрика: {(cb_grid.best_score_ * (-1)):.2f}')"
   ]
  },
  {
   "cell_type": "markdown",
   "metadata": {},
   "source": [
    "### Ridge"
   ]
  },
  {
   "cell_type": "markdown",
   "metadata": {},
   "source": [
    "Отмасштабируем данные и закодируем hour и dayofweek при помощи OHE"
   ]
  },
  {
   "cell_type": "code",
   "execution_count": 30,
   "metadata": {},
   "outputs": [
    {
     "data": {
      "text/html": [
       "<style>#sk-container-id-2 {\n",
       "  /* Definition of color scheme common for light and dark mode */\n",
       "  --sklearn-color-text: black;\n",
       "  --sklearn-color-line: gray;\n",
       "  /* Definition of color scheme for unfitted estimators */\n",
       "  --sklearn-color-unfitted-level-0: #fff5e6;\n",
       "  --sklearn-color-unfitted-level-1: #f6e4d2;\n",
       "  --sklearn-color-unfitted-level-2: #ffe0b3;\n",
       "  --sklearn-color-unfitted-level-3: chocolate;\n",
       "  /* Definition of color scheme for fitted estimators */\n",
       "  --sklearn-color-fitted-level-0: #f0f8ff;\n",
       "  --sklearn-color-fitted-level-1: #d4ebff;\n",
       "  --sklearn-color-fitted-level-2: #b3dbfd;\n",
       "  --sklearn-color-fitted-level-3: cornflowerblue;\n",
       "\n",
       "  /* Specific color for light theme */\n",
       "  --sklearn-color-text-on-default-background: var(--sg-text-color, var(--theme-code-foreground, var(--jp-content-font-color1, black)));\n",
       "  --sklearn-color-background: var(--sg-background-color, var(--theme-background, var(--jp-layout-color0, white)));\n",
       "  --sklearn-color-border-box: var(--sg-text-color, var(--theme-code-foreground, var(--jp-content-font-color1, black)));\n",
       "  --sklearn-color-icon: #696969;\n",
       "\n",
       "  @media (prefers-color-scheme: dark) {\n",
       "    /* Redefinition of color scheme for dark theme */\n",
       "    --sklearn-color-text-on-default-background: var(--sg-text-color, var(--theme-code-foreground, var(--jp-content-font-color1, white)));\n",
       "    --sklearn-color-background: var(--sg-background-color, var(--theme-background, var(--jp-layout-color0, #111)));\n",
       "    --sklearn-color-border-box: var(--sg-text-color, var(--theme-code-foreground, var(--jp-content-font-color1, white)));\n",
       "    --sklearn-color-icon: #878787;\n",
       "  }\n",
       "}\n",
       "\n",
       "#sk-container-id-2 {\n",
       "  color: var(--sklearn-color-text);\n",
       "}\n",
       "\n",
       "#sk-container-id-2 pre {\n",
       "  padding: 0;\n",
       "}\n",
       "\n",
       "#sk-container-id-2 input.sk-hidden--visually {\n",
       "  border: 0;\n",
       "  clip: rect(1px 1px 1px 1px);\n",
       "  clip: rect(1px, 1px, 1px, 1px);\n",
       "  height: 1px;\n",
       "  margin: -1px;\n",
       "  overflow: hidden;\n",
       "  padding: 0;\n",
       "  position: absolute;\n",
       "  width: 1px;\n",
       "}\n",
       "\n",
       "#sk-container-id-2 div.sk-dashed-wrapped {\n",
       "  border: 1px dashed var(--sklearn-color-line);\n",
       "  margin: 0 0.4em 0.5em 0.4em;\n",
       "  box-sizing: border-box;\n",
       "  padding-bottom: 0.4em;\n",
       "  background-color: var(--sklearn-color-background);\n",
       "}\n",
       "\n",
       "#sk-container-id-2 div.sk-container {\n",
       "  /* jupyter's `normalize.less` sets `[hidden] { display: none; }`\n",
       "     but bootstrap.min.css set `[hidden] { display: none !important; }`\n",
       "     so we also need the `!important` here to be able to override the\n",
       "     default hidden behavior on the sphinx rendered scikit-learn.org.\n",
       "     See: https://github.com/scikit-learn/scikit-learn/issues/21755 */\n",
       "  display: inline-block !important;\n",
       "  position: relative;\n",
       "}\n",
       "\n",
       "#sk-container-id-2 div.sk-text-repr-fallback {\n",
       "  display: none;\n",
       "}\n",
       "\n",
       "div.sk-parallel-item,\n",
       "div.sk-serial,\n",
       "div.sk-item {\n",
       "  /* draw centered vertical line to link estimators */\n",
       "  background-image: linear-gradient(var(--sklearn-color-text-on-default-background), var(--sklearn-color-text-on-default-background));\n",
       "  background-size: 2px 100%;\n",
       "  background-repeat: no-repeat;\n",
       "  background-position: center center;\n",
       "}\n",
       "\n",
       "/* Parallel-specific style estimator block */\n",
       "\n",
       "#sk-container-id-2 div.sk-parallel-item::after {\n",
       "  content: \"\";\n",
       "  width: 100%;\n",
       "  border-bottom: 2px solid var(--sklearn-color-text-on-default-background);\n",
       "  flex-grow: 1;\n",
       "}\n",
       "\n",
       "#sk-container-id-2 div.sk-parallel {\n",
       "  display: flex;\n",
       "  align-items: stretch;\n",
       "  justify-content: center;\n",
       "  background-color: var(--sklearn-color-background);\n",
       "  position: relative;\n",
       "}\n",
       "\n",
       "#sk-container-id-2 div.sk-parallel-item {\n",
       "  display: flex;\n",
       "  flex-direction: column;\n",
       "}\n",
       "\n",
       "#sk-container-id-2 div.sk-parallel-item:first-child::after {\n",
       "  align-self: flex-end;\n",
       "  width: 50%;\n",
       "}\n",
       "\n",
       "#sk-container-id-2 div.sk-parallel-item:last-child::after {\n",
       "  align-self: flex-start;\n",
       "  width: 50%;\n",
       "}\n",
       "\n",
       "#sk-container-id-2 div.sk-parallel-item:only-child::after {\n",
       "  width: 0;\n",
       "}\n",
       "\n",
       "/* Serial-specific style estimator block */\n",
       "\n",
       "#sk-container-id-2 div.sk-serial {\n",
       "  display: flex;\n",
       "  flex-direction: column;\n",
       "  align-items: center;\n",
       "  background-color: var(--sklearn-color-background);\n",
       "  padding-right: 1em;\n",
       "  padding-left: 1em;\n",
       "}\n",
       "\n",
       "\n",
       "/* Toggleable style: style used for estimator/Pipeline/ColumnTransformer box that is\n",
       "clickable and can be expanded/collapsed.\n",
       "- Pipeline and ColumnTransformer use this feature and define the default style\n",
       "- Estimators will overwrite some part of the style using the `sk-estimator` class\n",
       "*/\n",
       "\n",
       "/* Pipeline and ColumnTransformer style (default) */\n",
       "\n",
       "#sk-container-id-2 div.sk-toggleable {\n",
       "  /* Default theme specific background. It is overwritten whether we have a\n",
       "  specific estimator or a Pipeline/ColumnTransformer */\n",
       "  background-color: var(--sklearn-color-background);\n",
       "}\n",
       "\n",
       "/* Toggleable label */\n",
       "#sk-container-id-2 label.sk-toggleable__label {\n",
       "  cursor: pointer;\n",
       "  display: block;\n",
       "  width: 100%;\n",
       "  margin-bottom: 0;\n",
       "  padding: 0.5em;\n",
       "  box-sizing: border-box;\n",
       "  text-align: center;\n",
       "}\n",
       "\n",
       "#sk-container-id-2 label.sk-toggleable__label-arrow:before {\n",
       "  /* Arrow on the left of the label */\n",
       "  content: \"▸\";\n",
       "  float: left;\n",
       "  margin-right: 0.25em;\n",
       "  color: var(--sklearn-color-icon);\n",
       "}\n",
       "\n",
       "#sk-container-id-2 label.sk-toggleable__label-arrow:hover:before {\n",
       "  color: var(--sklearn-color-text);\n",
       "}\n",
       "\n",
       "/* Toggleable content - dropdown */\n",
       "\n",
       "#sk-container-id-2 div.sk-toggleable__content {\n",
       "  max-height: 0;\n",
       "  max-width: 0;\n",
       "  overflow: hidden;\n",
       "  text-align: left;\n",
       "  /* unfitted */\n",
       "  background-color: var(--sklearn-color-unfitted-level-0);\n",
       "}\n",
       "\n",
       "#sk-container-id-2 div.sk-toggleable__content.fitted {\n",
       "  /* fitted */\n",
       "  background-color: var(--sklearn-color-fitted-level-0);\n",
       "}\n",
       "\n",
       "#sk-container-id-2 div.sk-toggleable__content pre {\n",
       "  margin: 0.2em;\n",
       "  border-radius: 0.25em;\n",
       "  color: var(--sklearn-color-text);\n",
       "  /* unfitted */\n",
       "  background-color: var(--sklearn-color-unfitted-level-0);\n",
       "}\n",
       "\n",
       "#sk-container-id-2 div.sk-toggleable__content.fitted pre {\n",
       "  /* unfitted */\n",
       "  background-color: var(--sklearn-color-fitted-level-0);\n",
       "}\n",
       "\n",
       "#sk-container-id-2 input.sk-toggleable__control:checked~div.sk-toggleable__content {\n",
       "  /* Expand drop-down */\n",
       "  max-height: 200px;\n",
       "  max-width: 100%;\n",
       "  overflow: auto;\n",
       "}\n",
       "\n",
       "#sk-container-id-2 input.sk-toggleable__control:checked~label.sk-toggleable__label-arrow:before {\n",
       "  content: \"▾\";\n",
       "}\n",
       "\n",
       "/* Pipeline/ColumnTransformer-specific style */\n",
       "\n",
       "#sk-container-id-2 div.sk-label input.sk-toggleable__control:checked~label.sk-toggleable__label {\n",
       "  color: var(--sklearn-color-text);\n",
       "  background-color: var(--sklearn-color-unfitted-level-2);\n",
       "}\n",
       "\n",
       "#sk-container-id-2 div.sk-label.fitted input.sk-toggleable__control:checked~label.sk-toggleable__label {\n",
       "  background-color: var(--sklearn-color-fitted-level-2);\n",
       "}\n",
       "\n",
       "/* Estimator-specific style */\n",
       "\n",
       "/* Colorize estimator box */\n",
       "#sk-container-id-2 div.sk-estimator input.sk-toggleable__control:checked~label.sk-toggleable__label {\n",
       "  /* unfitted */\n",
       "  background-color: var(--sklearn-color-unfitted-level-2);\n",
       "}\n",
       "\n",
       "#sk-container-id-2 div.sk-estimator.fitted input.sk-toggleable__control:checked~label.sk-toggleable__label {\n",
       "  /* fitted */\n",
       "  background-color: var(--sklearn-color-fitted-level-2);\n",
       "}\n",
       "\n",
       "#sk-container-id-2 div.sk-label label.sk-toggleable__label,\n",
       "#sk-container-id-2 div.sk-label label {\n",
       "  /* The background is the default theme color */\n",
       "  color: var(--sklearn-color-text-on-default-background);\n",
       "}\n",
       "\n",
       "/* On hover, darken the color of the background */\n",
       "#sk-container-id-2 div.sk-label:hover label.sk-toggleable__label {\n",
       "  color: var(--sklearn-color-text);\n",
       "  background-color: var(--sklearn-color-unfitted-level-2);\n",
       "}\n",
       "\n",
       "/* Label box, darken color on hover, fitted */\n",
       "#sk-container-id-2 div.sk-label.fitted:hover label.sk-toggleable__label.fitted {\n",
       "  color: var(--sklearn-color-text);\n",
       "  background-color: var(--sklearn-color-fitted-level-2);\n",
       "}\n",
       "\n",
       "/* Estimator label */\n",
       "\n",
       "#sk-container-id-2 div.sk-label label {\n",
       "  font-family: monospace;\n",
       "  font-weight: bold;\n",
       "  display: inline-block;\n",
       "  line-height: 1.2em;\n",
       "}\n",
       "\n",
       "#sk-container-id-2 div.sk-label-container {\n",
       "  text-align: center;\n",
       "}\n",
       "\n",
       "/* Estimator-specific */\n",
       "#sk-container-id-2 div.sk-estimator {\n",
       "  font-family: monospace;\n",
       "  border: 1px dotted var(--sklearn-color-border-box);\n",
       "  border-radius: 0.25em;\n",
       "  box-sizing: border-box;\n",
       "  margin-bottom: 0.5em;\n",
       "  /* unfitted */\n",
       "  background-color: var(--sklearn-color-unfitted-level-0);\n",
       "}\n",
       "\n",
       "#sk-container-id-2 div.sk-estimator.fitted {\n",
       "  /* fitted */\n",
       "  background-color: var(--sklearn-color-fitted-level-0);\n",
       "}\n",
       "\n",
       "/* on hover */\n",
       "#sk-container-id-2 div.sk-estimator:hover {\n",
       "  /* unfitted */\n",
       "  background-color: var(--sklearn-color-unfitted-level-2);\n",
       "}\n",
       "\n",
       "#sk-container-id-2 div.sk-estimator.fitted:hover {\n",
       "  /* fitted */\n",
       "  background-color: var(--sklearn-color-fitted-level-2);\n",
       "}\n",
       "\n",
       "/* Specification for estimator info (e.g. \"i\" and \"?\") */\n",
       "\n",
       "/* Common style for \"i\" and \"?\" */\n",
       "\n",
       ".sk-estimator-doc-link,\n",
       "a:link.sk-estimator-doc-link,\n",
       "a:visited.sk-estimator-doc-link {\n",
       "  float: right;\n",
       "  font-size: smaller;\n",
       "  line-height: 1em;\n",
       "  font-family: monospace;\n",
       "  background-color: var(--sklearn-color-background);\n",
       "  border-radius: 1em;\n",
       "  height: 1em;\n",
       "  width: 1em;\n",
       "  text-decoration: none !important;\n",
       "  margin-left: 1ex;\n",
       "  /* unfitted */\n",
       "  border: var(--sklearn-color-unfitted-level-1) 1pt solid;\n",
       "  color: var(--sklearn-color-unfitted-level-1);\n",
       "}\n",
       "\n",
       ".sk-estimator-doc-link.fitted,\n",
       "a:link.sk-estimator-doc-link.fitted,\n",
       "a:visited.sk-estimator-doc-link.fitted {\n",
       "  /* fitted */\n",
       "  border: var(--sklearn-color-fitted-level-1) 1pt solid;\n",
       "  color: var(--sklearn-color-fitted-level-1);\n",
       "}\n",
       "\n",
       "/* On hover */\n",
       "div.sk-estimator:hover .sk-estimator-doc-link:hover,\n",
       ".sk-estimator-doc-link:hover,\n",
       "div.sk-label-container:hover .sk-estimator-doc-link:hover,\n",
       ".sk-estimator-doc-link:hover {\n",
       "  /* unfitted */\n",
       "  background-color: var(--sklearn-color-unfitted-level-3);\n",
       "  color: var(--sklearn-color-background);\n",
       "  text-decoration: none;\n",
       "}\n",
       "\n",
       "div.sk-estimator.fitted:hover .sk-estimator-doc-link.fitted:hover,\n",
       ".sk-estimator-doc-link.fitted:hover,\n",
       "div.sk-label-container:hover .sk-estimator-doc-link.fitted:hover,\n",
       ".sk-estimator-doc-link.fitted:hover {\n",
       "  /* fitted */\n",
       "  background-color: var(--sklearn-color-fitted-level-3);\n",
       "  color: var(--sklearn-color-background);\n",
       "  text-decoration: none;\n",
       "}\n",
       "\n",
       "/* Span, style for the box shown on hovering the info icon */\n",
       ".sk-estimator-doc-link span {\n",
       "  display: none;\n",
       "  z-index: 9999;\n",
       "  position: relative;\n",
       "  font-weight: normal;\n",
       "  right: .2ex;\n",
       "  padding: .5ex;\n",
       "  margin: .5ex;\n",
       "  width: min-content;\n",
       "  min-width: 20ex;\n",
       "  max-width: 50ex;\n",
       "  color: var(--sklearn-color-text);\n",
       "  box-shadow: 2pt 2pt 4pt #999;\n",
       "  /* unfitted */\n",
       "  background: var(--sklearn-color-unfitted-level-0);\n",
       "  border: .5pt solid var(--sklearn-color-unfitted-level-3);\n",
       "}\n",
       "\n",
       ".sk-estimator-doc-link.fitted span {\n",
       "  /* fitted */\n",
       "  background: var(--sklearn-color-fitted-level-0);\n",
       "  border: var(--sklearn-color-fitted-level-3);\n",
       "}\n",
       "\n",
       ".sk-estimator-doc-link:hover span {\n",
       "  display: block;\n",
       "}\n",
       "\n",
       "/* \"?\"-specific style due to the `<a>` HTML tag */\n",
       "\n",
       "#sk-container-id-2 a.estimator_doc_link {\n",
       "  float: right;\n",
       "  font-size: 1rem;\n",
       "  line-height: 1em;\n",
       "  font-family: monospace;\n",
       "  background-color: var(--sklearn-color-background);\n",
       "  border-radius: 1rem;\n",
       "  height: 1rem;\n",
       "  width: 1rem;\n",
       "  text-decoration: none;\n",
       "  /* unfitted */\n",
       "  color: var(--sklearn-color-unfitted-level-1);\n",
       "  border: var(--sklearn-color-unfitted-level-1) 1pt solid;\n",
       "}\n",
       "\n",
       "#sk-container-id-2 a.estimator_doc_link.fitted {\n",
       "  /* fitted */\n",
       "  border: var(--sklearn-color-fitted-level-1) 1pt solid;\n",
       "  color: var(--sklearn-color-fitted-level-1);\n",
       "}\n",
       "\n",
       "/* On hover */\n",
       "#sk-container-id-2 a.estimator_doc_link:hover {\n",
       "  /* unfitted */\n",
       "  background-color: var(--sklearn-color-unfitted-level-3);\n",
       "  color: var(--sklearn-color-background);\n",
       "  text-decoration: none;\n",
       "}\n",
       "\n",
       "#sk-container-id-2 a.estimator_doc_link.fitted:hover {\n",
       "  /* fitted */\n",
       "  background-color: var(--sklearn-color-fitted-level-3);\n",
       "}\n",
       "</style><div id=\"sk-container-id-2\" class=\"sk-top-container\"><div class=\"sk-text-repr-fallback\"><pre>GridSearchCV(cv=&lt;generator object TimeSeriesSplit._split at 0x7fadcbea6cf0&gt;,\n",
       "             estimator=Pipeline(steps=[(&#x27;preprocessor&#x27;,\n",
       "                                        ColumnTransformer(remainder=&#x27;passthrough&#x27;,\n",
       "                                                          transformers=[(&#x27;ohe&#x27;,\n",
       "                                                                         OneHotEncoder(drop=&#x27;first&#x27;,\n",
       "                                                                                       handle_unknown=&#x27;ignore&#x27;,\n",
       "                                                                                       sparse_output=False),\n",
       "                                                                         [&#x27;hour&#x27;,\n",
       "                                                                          &#x27;dayofweek&#x27;]),\n",
       "                                                                        (&#x27;num&#x27;,\n",
       "                                                                         StandardScaler(),\n",
       "                                                                         [&#x27;log_1&#x27;,\n",
       "                                                                          &#x27;log_2&#x27;,\n",
       "                                                                          &#x27;log_3&#x27;,\n",
       "                                                                          &#x27;log_4&#x27;,\n",
       "                                                                          &#x27;log_5&#x27;,\n",
       "                                                                          &#x27;log_6&#x27;,\n",
       "                                                                          &#x27;log_7&#x27;,\n",
       "                                                                          &#x27;log_8&#x27;,\n",
       "                                                                          &#x27;log_9&#x27;,\n",
       "                                                                          &#x27;log_10&#x27;,\n",
       "                                                                          &#x27;log_11&#x27;,\n",
       "                                                                          &#x27;log_12&#x27;,\n",
       "                                                                          &#x27;log_13&#x27;,\n",
       "                                                                          &#x27;log_14&#x27;,\n",
       "                                                                          &#x27;log_15&#x27;,\n",
       "                                                                          &#x27;log_16&#x27;,\n",
       "                                                                          &#x27;log_17&#x27;,\n",
       "                                                                          &#x27;log_18&#x27;,\n",
       "                                                                          &#x27;log_19&#x27;,\n",
       "                                                                          &#x27;log_20&#x27;,\n",
       "                                                                          &#x27;log_21&#x27;,\n",
       "                                                                          &#x27;log_22&#x27;,\n",
       "                                                                          &#x27;log_23&#x27;,\n",
       "                                                                          &#x27;log_24&#x27;,\n",
       "                                                                          &#x27;mean_roll&#x27;])])),\n",
       "                                       (&#x27;model&#x27;, Ridge())]),\n",
       "             param_grid=[{&#x27;model__alpha&#x27;: [0.1, 1.0, 10.0],\n",
       "                          &#x27;model__fit_intercept&#x27;: [True, False],\n",
       "                          &#x27;model__solver&#x27;: [&#x27;auto&#x27;, &#x27;svd&#x27;, &#x27;cholesky&#x27;]}],\n",
       "             scoring=&#x27;neg_root_mean_squared_error&#x27;)</pre><b>In a Jupyter environment, please rerun this cell to show the HTML representation or trust the notebook. <br />On GitHub, the HTML representation is unable to render, please try loading this page with nbviewer.org.</b></div><div class=\"sk-container\" hidden><div class=\"sk-item sk-dashed-wrapped\"><div class=\"sk-label-container\"><div class=\"sk-label fitted sk-toggleable\"><input class=\"sk-toggleable__control sk-hidden--visually\" id=\"sk-estimator-id-4\" type=\"checkbox\" ><label for=\"sk-estimator-id-4\" class=\"sk-toggleable__label fitted sk-toggleable__label-arrow fitted\">&nbsp;&nbsp;GridSearchCV<a class=\"sk-estimator-doc-link fitted\" rel=\"noreferrer\" target=\"_blank\" href=\"https://scikit-learn.org/1.5/modules/generated/sklearn.model_selection.GridSearchCV.html\">?<span>Documentation for GridSearchCV</span></a><span class=\"sk-estimator-doc-link fitted\">i<span>Fitted</span></span></label><div class=\"sk-toggleable__content fitted\"><pre>GridSearchCV(cv=&lt;generator object TimeSeriesSplit._split at 0x7fadcbea6cf0&gt;,\n",
       "             estimator=Pipeline(steps=[(&#x27;preprocessor&#x27;,\n",
       "                                        ColumnTransformer(remainder=&#x27;passthrough&#x27;,\n",
       "                                                          transformers=[(&#x27;ohe&#x27;,\n",
       "                                                                         OneHotEncoder(drop=&#x27;first&#x27;,\n",
       "                                                                                       handle_unknown=&#x27;ignore&#x27;,\n",
       "                                                                                       sparse_output=False),\n",
       "                                                                         [&#x27;hour&#x27;,\n",
       "                                                                          &#x27;dayofweek&#x27;]),\n",
       "                                                                        (&#x27;num&#x27;,\n",
       "                                                                         StandardScaler(),\n",
       "                                                                         [&#x27;log_1&#x27;,\n",
       "                                                                          &#x27;log_2&#x27;,\n",
       "                                                                          &#x27;log_3&#x27;,\n",
       "                                                                          &#x27;log_4&#x27;,\n",
       "                                                                          &#x27;log_5&#x27;,\n",
       "                                                                          &#x27;log_6&#x27;,\n",
       "                                                                          &#x27;log_7&#x27;,\n",
       "                                                                          &#x27;log_8&#x27;,\n",
       "                                                                          &#x27;log_9&#x27;,\n",
       "                                                                          &#x27;log_10&#x27;,\n",
       "                                                                          &#x27;log_11&#x27;,\n",
       "                                                                          &#x27;log_12&#x27;,\n",
       "                                                                          &#x27;log_13&#x27;,\n",
       "                                                                          &#x27;log_14&#x27;,\n",
       "                                                                          &#x27;log_15&#x27;,\n",
       "                                                                          &#x27;log_16&#x27;,\n",
       "                                                                          &#x27;log_17&#x27;,\n",
       "                                                                          &#x27;log_18&#x27;,\n",
       "                                                                          &#x27;log_19&#x27;,\n",
       "                                                                          &#x27;log_20&#x27;,\n",
       "                                                                          &#x27;log_21&#x27;,\n",
       "                                                                          &#x27;log_22&#x27;,\n",
       "                                                                          &#x27;log_23&#x27;,\n",
       "                                                                          &#x27;log_24&#x27;,\n",
       "                                                                          &#x27;mean_roll&#x27;])])),\n",
       "                                       (&#x27;model&#x27;, Ridge())]),\n",
       "             param_grid=[{&#x27;model__alpha&#x27;: [0.1, 1.0, 10.0],\n",
       "                          &#x27;model__fit_intercept&#x27;: [True, False],\n",
       "                          &#x27;model__solver&#x27;: [&#x27;auto&#x27;, &#x27;svd&#x27;, &#x27;cholesky&#x27;]}],\n",
       "             scoring=&#x27;neg_root_mean_squared_error&#x27;)</pre></div> </div></div><div class=\"sk-parallel\"><div class=\"sk-parallel-item\"><div class=\"sk-item\"><div class=\"sk-label-container\"><div class=\"sk-label fitted sk-toggleable\"><input class=\"sk-toggleable__control sk-hidden--visually\" id=\"sk-estimator-id-5\" type=\"checkbox\" ><label for=\"sk-estimator-id-5\" class=\"sk-toggleable__label fitted sk-toggleable__label-arrow fitted\">best_estimator_: Pipeline</label><div class=\"sk-toggleable__content fitted\"><pre>Pipeline(steps=[(&#x27;preprocessor&#x27;,\n",
       "                 ColumnTransformer(remainder=&#x27;passthrough&#x27;,\n",
       "                                   transformers=[(&#x27;ohe&#x27;,\n",
       "                                                  OneHotEncoder(drop=&#x27;first&#x27;,\n",
       "                                                                handle_unknown=&#x27;ignore&#x27;,\n",
       "                                                                sparse_output=False),\n",
       "                                                  [&#x27;hour&#x27;, &#x27;dayofweek&#x27;]),\n",
       "                                                 (&#x27;num&#x27;, StandardScaler(),\n",
       "                                                  [&#x27;log_1&#x27;, &#x27;log_2&#x27;, &#x27;log_3&#x27;,\n",
       "                                                   &#x27;log_4&#x27;, &#x27;log_5&#x27;, &#x27;log_6&#x27;,\n",
       "                                                   &#x27;log_7&#x27;, &#x27;log_8&#x27;, &#x27;log_9&#x27;,\n",
       "                                                   &#x27;log_10&#x27;, &#x27;log_11&#x27;, &#x27;log_12&#x27;,\n",
       "                                                   &#x27;log_13&#x27;, &#x27;log_14&#x27;, &#x27;log_15&#x27;,\n",
       "                                                   &#x27;log_16&#x27;, &#x27;log_17&#x27;, &#x27;log_18&#x27;,\n",
       "                                                   &#x27;log_19&#x27;, &#x27;log_20&#x27;, &#x27;log_21&#x27;,\n",
       "                                                   &#x27;log_22&#x27;, &#x27;log_23&#x27;, &#x27;log_24&#x27;,\n",
       "                                                   &#x27;mean_roll&#x27;])])),\n",
       "                (&#x27;model&#x27;, Ridge(alpha=0.1, solver=&#x27;svd&#x27;))])</pre></div> </div></div><div class=\"sk-serial\"><div class=\"sk-item\"><div class=\"sk-serial\"><div class=\"sk-item sk-dashed-wrapped\"><div class=\"sk-label-container\"><div class=\"sk-label fitted sk-toggleable\"><input class=\"sk-toggleable__control sk-hidden--visually\" id=\"sk-estimator-id-6\" type=\"checkbox\" ><label for=\"sk-estimator-id-6\" class=\"sk-toggleable__label fitted sk-toggleable__label-arrow fitted\">&nbsp;preprocessor: ColumnTransformer<a class=\"sk-estimator-doc-link fitted\" rel=\"noreferrer\" target=\"_blank\" href=\"https://scikit-learn.org/1.5/modules/generated/sklearn.compose.ColumnTransformer.html\">?<span>Documentation for preprocessor: ColumnTransformer</span></a></label><div class=\"sk-toggleable__content fitted\"><pre>ColumnTransformer(remainder=&#x27;passthrough&#x27;,\n",
       "                  transformers=[(&#x27;ohe&#x27;,\n",
       "                                 OneHotEncoder(drop=&#x27;first&#x27;,\n",
       "                                               handle_unknown=&#x27;ignore&#x27;,\n",
       "                                               sparse_output=False),\n",
       "                                 [&#x27;hour&#x27;, &#x27;dayofweek&#x27;]),\n",
       "                                (&#x27;num&#x27;, StandardScaler(),\n",
       "                                 [&#x27;log_1&#x27;, &#x27;log_2&#x27;, &#x27;log_3&#x27;, &#x27;log_4&#x27;, &#x27;log_5&#x27;,\n",
       "                                  &#x27;log_6&#x27;, &#x27;log_7&#x27;, &#x27;log_8&#x27;, &#x27;log_9&#x27;, &#x27;log_10&#x27;,\n",
       "                                  &#x27;log_11&#x27;, &#x27;log_12&#x27;, &#x27;log_13&#x27;, &#x27;log_14&#x27;,\n",
       "                                  &#x27;log_15&#x27;, &#x27;log_16&#x27;, &#x27;log_17&#x27;, &#x27;log_18&#x27;,\n",
       "                                  &#x27;log_19&#x27;, &#x27;log_20&#x27;, &#x27;log_21&#x27;, &#x27;log_22&#x27;,\n",
       "                                  &#x27;log_23&#x27;, &#x27;log_24&#x27;, &#x27;mean_roll&#x27;])])</pre></div> </div></div><div class=\"sk-parallel\"><div class=\"sk-parallel-item\"><div class=\"sk-item\"><div class=\"sk-label-container\"><div class=\"sk-label fitted sk-toggleable\"><input class=\"sk-toggleable__control sk-hidden--visually\" id=\"sk-estimator-id-7\" type=\"checkbox\" ><label for=\"sk-estimator-id-7\" class=\"sk-toggleable__label fitted sk-toggleable__label-arrow fitted\">ohe</label><div class=\"sk-toggleable__content fitted\"><pre>[&#x27;hour&#x27;, &#x27;dayofweek&#x27;]</pre></div> </div></div><div class=\"sk-serial\"><div class=\"sk-item\"><div class=\"sk-estimator fitted sk-toggleable\"><input class=\"sk-toggleable__control sk-hidden--visually\" id=\"sk-estimator-id-8\" type=\"checkbox\" ><label for=\"sk-estimator-id-8\" class=\"sk-toggleable__label fitted sk-toggleable__label-arrow fitted\">&nbsp;OneHotEncoder<a class=\"sk-estimator-doc-link fitted\" rel=\"noreferrer\" target=\"_blank\" href=\"https://scikit-learn.org/1.5/modules/generated/sklearn.preprocessing.OneHotEncoder.html\">?<span>Documentation for OneHotEncoder</span></a></label><div class=\"sk-toggleable__content fitted\"><pre>OneHotEncoder(drop=&#x27;first&#x27;, handle_unknown=&#x27;ignore&#x27;, sparse_output=False)</pre></div> </div></div></div></div></div><div class=\"sk-parallel-item\"><div class=\"sk-item\"><div class=\"sk-label-container\"><div class=\"sk-label fitted sk-toggleable\"><input class=\"sk-toggleable__control sk-hidden--visually\" id=\"sk-estimator-id-9\" type=\"checkbox\" ><label for=\"sk-estimator-id-9\" class=\"sk-toggleable__label fitted sk-toggleable__label-arrow fitted\">num</label><div class=\"sk-toggleable__content fitted\"><pre>[&#x27;log_1&#x27;, &#x27;log_2&#x27;, &#x27;log_3&#x27;, &#x27;log_4&#x27;, &#x27;log_5&#x27;, &#x27;log_6&#x27;, &#x27;log_7&#x27;, &#x27;log_8&#x27;, &#x27;log_9&#x27;, &#x27;log_10&#x27;, &#x27;log_11&#x27;, &#x27;log_12&#x27;, &#x27;log_13&#x27;, &#x27;log_14&#x27;, &#x27;log_15&#x27;, &#x27;log_16&#x27;, &#x27;log_17&#x27;, &#x27;log_18&#x27;, &#x27;log_19&#x27;, &#x27;log_20&#x27;, &#x27;log_21&#x27;, &#x27;log_22&#x27;, &#x27;log_23&#x27;, &#x27;log_24&#x27;, &#x27;mean_roll&#x27;]</pre></div> </div></div><div class=\"sk-serial\"><div class=\"sk-item\"><div class=\"sk-estimator fitted sk-toggleable\"><input class=\"sk-toggleable__control sk-hidden--visually\" id=\"sk-estimator-id-10\" type=\"checkbox\" ><label for=\"sk-estimator-id-10\" class=\"sk-toggleable__label fitted sk-toggleable__label-arrow fitted\">&nbsp;StandardScaler<a class=\"sk-estimator-doc-link fitted\" rel=\"noreferrer\" target=\"_blank\" href=\"https://scikit-learn.org/1.5/modules/generated/sklearn.preprocessing.StandardScaler.html\">?<span>Documentation for StandardScaler</span></a></label><div class=\"sk-toggleable__content fitted\"><pre>StandardScaler()</pre></div> </div></div></div></div></div><div class=\"sk-parallel-item\"><div class=\"sk-item\"><div class=\"sk-label-container\"><div class=\"sk-label fitted sk-toggleable\"><input class=\"sk-toggleable__control sk-hidden--visually\" id=\"sk-estimator-id-11\" type=\"checkbox\" ><label for=\"sk-estimator-id-11\" class=\"sk-toggleable__label fitted sk-toggleable__label-arrow fitted\">remainder</label><div class=\"sk-toggleable__content fitted\"><pre>[]</pre></div> </div></div><div class=\"sk-serial\"><div class=\"sk-item\"><div class=\"sk-estimator fitted sk-toggleable\"><input class=\"sk-toggleable__control sk-hidden--visually\" id=\"sk-estimator-id-12\" type=\"checkbox\" ><label for=\"sk-estimator-id-12\" class=\"sk-toggleable__label fitted sk-toggleable__label-arrow fitted\">passthrough</label><div class=\"sk-toggleable__content fitted\"><pre>passthrough</pre></div> </div></div></div></div></div></div></div><div class=\"sk-item\"><div class=\"sk-estimator fitted sk-toggleable\"><input class=\"sk-toggleable__control sk-hidden--visually\" id=\"sk-estimator-id-13\" type=\"checkbox\" ><label for=\"sk-estimator-id-13\" class=\"sk-toggleable__label fitted sk-toggleable__label-arrow fitted\">&nbsp;Ridge<a class=\"sk-estimator-doc-link fitted\" rel=\"noreferrer\" target=\"_blank\" href=\"https://scikit-learn.org/1.5/modules/generated/sklearn.linear_model.Ridge.html\">?<span>Documentation for Ridge</span></a></label><div class=\"sk-toggleable__content fitted\"><pre>Ridge(alpha=0.1, solver=&#x27;svd&#x27;)</pre></div> </div></div></div></div></div></div></div></div></div></div></div>"
      ],
      "text/plain": [
       "GridSearchCV(cv=<generator object TimeSeriesSplit._split at 0x7fadcbea6cf0>,\n",
       "             estimator=Pipeline(steps=[('preprocessor',\n",
       "                                        ColumnTransformer(remainder='passthrough',\n",
       "                                                          transformers=[('ohe',\n",
       "                                                                         OneHotEncoder(drop='first',\n",
       "                                                                                       handle_unknown='ignore',\n",
       "                                                                                       sparse_output=False),\n",
       "                                                                         ['hour',\n",
       "                                                                          'dayofweek']),\n",
       "                                                                        ('num',\n",
       "                                                                         StandardScaler(),\n",
       "                                                                         ['log_1',\n",
       "                                                                          'log_2',\n",
       "                                                                          'log_3',\n",
       "                                                                          'log_4',\n",
       "                                                                          'log_5',\n",
       "                                                                          'log_6',\n",
       "                                                                          'log_7',\n",
       "                                                                          'log_8',\n",
       "                                                                          'log_9',\n",
       "                                                                          'log_10',\n",
       "                                                                          'log_11',\n",
       "                                                                          'log_12',\n",
       "                                                                          'log_13',\n",
       "                                                                          'log_14',\n",
       "                                                                          'log_15',\n",
       "                                                                          'log_16',\n",
       "                                                                          'log_17',\n",
       "                                                                          'log_18',\n",
       "                                                                          'log_19',\n",
       "                                                                          'log_20',\n",
       "                                                                          'log_21',\n",
       "                                                                          'log_22',\n",
       "                                                                          'log_23',\n",
       "                                                                          'log_24',\n",
       "                                                                          'mean_roll'])])),\n",
       "                                       ('model', Ridge())]),\n",
       "             param_grid=[{'model__alpha': [0.1, 1.0, 10.0],\n",
       "                          'model__fit_intercept': [True, False],\n",
       "                          'model__solver': ['auto', 'svd', 'cholesky']}],\n",
       "             scoring='neg_root_mean_squared_error')"
      ]
     },
     "execution_count": 30,
     "metadata": {},
     "output_type": "execute_result"
    }
   ],
   "source": [
    "num_cols = data.columns[3:27 + 1].tolist()\n",
    "ohe_cols = ['hour', 'dayofweek']\n",
    "\n",
    "data_preprocessor = ColumnTransformer(\n",
    "    [('ohe', OneHotEncoder(drop='first', sparse_output=False, handle_unknown='ignore'), ohe_cols),\n",
    "     ('num', StandardScaler(), num_cols)\n",
    "    ],\n",
    "    remainder='passthrough'\n",
    ")\n",
    "\n",
    "pipe_r = Pipeline([\n",
    "    ('preprocessor', data_preprocessor),\n",
    "    ('model', Ridge())\n",
    "])\n",
    "\n",
    "new_cv = TimeSeriesSplit(n_splits=3).split(X_train)\n",
    "\n",
    "hyperparams = [{'model__alpha': [0.1, 1.0, 10.0],\n",
    "                'model__fit_intercept': [True, False],\n",
    "                'model__solver': ['auto', 'svd', 'cholesky']}]\n",
    "\n",
    "r_model = GridSearchCV(\n",
    "    estimator = pipe_r,\n",
    "    param_grid=hyperparams,\n",
    "    scoring='neg_root_mean_squared_error',\n",
    "    cv=new_cv\n",
    ")\n",
    "\n",
    "r_model.fit(X_train, y_train)"
   ]
  },
  {
   "cell_type": "code",
   "execution_count": 31,
   "metadata": {},
   "outputs": [
    {
     "name": "stdout",
     "output_type": "stream",
     "text": [
      "Лучшие гиперпараметры: {'model__alpha': 0.1, 'model__fit_intercept': True, 'model__solver': 'svd'}\n",
      "Лучшая метрика: 25.92\n"
     ]
    }
   ],
   "source": [
    "print(f'Лучшие гиперпараметры: {r_model.best_params_}')\n",
    "print(f'Лучшая метрика: {(r_model.best_score_ * (-1)):.2f}')"
   ]
  },
  {
   "cell_type": "markdown",
   "metadata": {},
   "source": [
    "### Аализ моделей"
   ]
  },
  {
   "cell_type": "markdown",
   "metadata": {},
   "source": [
    "Лучшей моделью стала Ridge с метрикой RMSE = 25.92 и гиперпараметрами model__alpha: 0.1, model__fit_intercept: True, model__solver: 'svd'. У CatBoostRegressor RMSE = 26.22, однако время затраченное на обучение и подбор гиперпараметров намного больше чем у простой линейной модели Ridge, поэтому использовать будем Ridge."
   ]
  },
  {
   "cell_type": "markdown",
   "metadata": {},
   "source": [
    "## Тестирование"
   ]
  },
  {
   "cell_type": "code",
   "execution_count": 33,
   "metadata": {},
   "outputs": [
    {
     "name": "stdout",
     "output_type": "stream",
     "text": [
      "RMSE модели Ridge на тестовой выборке: 40.85\n"
     ]
    }
   ],
   "source": [
    "r_model_pred = r_model.predict(X_test)\n",
    "\n",
    "rmse_r = mean_squared_error(y_test, r_model_pred, squared=False)\n",
    "print(f'RMSE модели Ridge на тестовой выборке: {rmse_r:.2f}')"
   ]
  },
  {
   "cell_type": "markdown",
   "metadata": {},
   "source": [
    "    Линейная модель опказалась переобучена, но метрика RMSE в пределах допустимой.\n",
    "    RMSE на тестовой выборке также  у Ridge 40.85"
   ]
  },
  {
   "cell_type": "markdown",
   "metadata": {},
   "source": [
    "## Вывод"
   ]
  },
  {
   "cell_type": "markdown",
   "metadata": {},
   "source": [
    "В ходе проектной работы была разработана модель, которая позволит спрогнозировать количество заказов такси на следующий час.\n",
    "\n",
    "Первым шагом стала подготовка данных: данные были выгружены в таблицу размером 4416 и изучены, было проведено ресемплирование данных по одному часу.\n",
    "\n",
    "Во втором шаге проводился анализ данных: были проведено исследование наличия пропусков и дубликатов, были построены графики распределения количества заказов и общий график временного ряда, был проведен анализ временных рядов: построены графики тренда, сезонности и остатков, было выяснено, что тренд восходящий и существует определенная суточная сезонность: пик заказов приходится на вечер, а ночью количество заказов сильно уменьшается.\n",
    "\n",
    "В третем шаге проводилось обучение моделей: для начала были созданы функции для создания признаков, такие как час дня и день недели, скользящее среднее и информация о количестве заказов в течении предыдущих 24 часов, далее данные были разбиты на тренировочную и тестовую выборки и обучены модели CatBoostRegressor и Ridge. Были подобраны лучшие гиперпараметры, оценка качества проводилась с помощью метрики RMSE.\n",
    "\n",
    "В четвертом шаге проходило тестирование моделей:  RMSE модели Ridge 40.85."
   ]
  }
 ],
 "metadata": {
  "ExecuteTimeLog": [
   {
    "duration": 1335,
    "start_time": "2024-08-24T11:42:26.775Z"
   },
   {
    "duration": 90,
    "start_time": "2024-08-24T11:42:30.571Z"
   },
   {
    "duration": 14,
    "start_time": "2024-08-24T11:42:46.249Z"
   },
   {
    "duration": 10,
    "start_time": "2024-08-24T11:42:58.309Z"
   },
   {
    "duration": 46,
    "start_time": "2024-08-24T11:43:17.416Z"
   },
   {
    "duration": 64,
    "start_time": "2024-08-24T11:43:44.228Z"
   },
   {
    "duration": 46,
    "start_time": "2024-08-24T11:43:50.148Z"
   },
   {
    "duration": 13,
    "start_time": "2024-08-24T11:44:02.135Z"
   },
   {
    "duration": 6,
    "start_time": "2024-08-24T11:44:15.688Z"
   },
   {
    "duration": 9,
    "start_time": "2024-08-24T11:44:19.089Z"
   },
   {
    "duration": 7,
    "start_time": "2024-08-24T11:44:21.703Z"
   },
   {
    "duration": 1165,
    "start_time": "2024-08-24T11:45:08.428Z"
   },
   {
    "duration": 2,
    "start_time": "2024-08-24T11:45:09.595Z"
   },
   {
    "duration": 13,
    "start_time": "2024-08-24T11:45:09.599Z"
   },
   {
    "duration": 48,
    "start_time": "2024-08-24T11:45:09.614Z"
   },
   {
    "duration": 9,
    "start_time": "2024-08-24T11:45:16.342Z"
   },
   {
    "duration": 14,
    "start_time": "2024-08-24T11:45:16.352Z"
   },
   {
    "duration": 10,
    "start_time": "2024-08-24T11:45:16.367Z"
   },
   {
    "duration": 6,
    "start_time": "2024-08-24T11:47:21.826Z"
   },
   {
    "duration": 5,
    "start_time": "2024-08-24T11:47:46.386Z"
   },
   {
    "duration": 48,
    "start_time": "2024-08-24T11:52:38.493Z"
   },
   {
    "duration": 6,
    "start_time": "2024-08-24T11:53:14.697Z"
   },
   {
    "duration": 1172,
    "start_time": "2024-08-24T11:53:19.710Z"
   },
   {
    "duration": 3,
    "start_time": "2024-08-24T11:53:20.883Z"
   },
   {
    "duration": 16,
    "start_time": "2024-08-24T11:53:20.888Z"
   },
   {
    "duration": 71,
    "start_time": "2024-08-24T11:53:20.906Z"
   },
   {
    "duration": 9,
    "start_time": "2024-08-24T11:53:20.978Z"
   },
   {
    "duration": 42,
    "start_time": "2024-08-24T11:53:20.988Z"
   },
   {
    "duration": 26,
    "start_time": "2024-08-24T11:53:21.032Z"
   },
   {
    "duration": 10,
    "start_time": "2024-08-24T11:53:21.059Z"
   },
   {
    "duration": 102,
    "start_time": "2024-08-24T11:53:21.071Z"
   },
   {
    "duration": 143,
    "start_time": "2024-08-24T11:54:18.099Z"
   },
   {
    "duration": 114,
    "start_time": "2024-08-24T11:54:35.466Z"
   },
   {
    "duration": 142,
    "start_time": "2024-08-24T11:56:23.061Z"
   },
   {
    "duration": 71,
    "start_time": "2024-08-24T11:58:07.947Z"
   },
   {
    "duration": 112,
    "start_time": "2024-08-24T11:58:12.670Z"
   },
   {
    "duration": 540,
    "start_time": "2024-08-24T11:58:17.624Z"
   },
   {
    "duration": 580,
    "start_time": "2024-08-24T11:58:41.898Z"
   },
   {
    "duration": 463,
    "start_time": "2024-08-24T11:59:31.349Z"
   },
   {
    "duration": 496,
    "start_time": "2024-08-24T11:59:39.414Z"
   },
   {
    "duration": 507,
    "start_time": "2024-08-24T12:00:01.690Z"
   },
   {
    "duration": 493,
    "start_time": "2024-08-24T12:01:00.409Z"
   },
   {
    "duration": 483,
    "start_time": "2024-08-24T12:01:15.891Z"
   },
   {
    "duration": 463,
    "start_time": "2024-08-24T12:01:25.976Z"
   },
   {
    "duration": 487,
    "start_time": "2024-08-24T12:01:35.299Z"
   },
   {
    "duration": 565,
    "start_time": "2024-08-24T12:01:58.331Z"
   },
   {
    "duration": 14,
    "start_time": "2024-08-24T12:08:22.932Z"
   },
   {
    "duration": 147,
    "start_time": "2024-08-24T12:09:42.290Z"
   },
   {
    "duration": 7,
    "start_time": "2024-08-24T12:09:53.747Z"
   },
   {
    "duration": 147,
    "start_time": "2024-08-24T12:10:25.967Z"
   },
   {
    "duration": 322,
    "start_time": "2024-08-24T12:11:33.139Z"
   },
   {
    "duration": 294,
    "start_time": "2024-08-24T12:11:42.266Z"
   },
   {
    "duration": 279,
    "start_time": "2024-08-24T12:12:16.811Z"
   },
   {
    "duration": 268,
    "start_time": "2024-08-24T12:12:19.125Z"
   },
   {
    "duration": 1289,
    "start_time": "2024-08-26T04:39:49.886Z"
   },
   {
    "duration": 3,
    "start_time": "2024-08-26T04:39:51.177Z"
   },
   {
    "duration": 13,
    "start_time": "2024-08-26T04:39:51.182Z"
   },
   {
    "duration": 106,
    "start_time": "2024-08-26T04:39:51.197Z"
   },
   {
    "duration": 8,
    "start_time": "2024-08-26T04:39:51.305Z"
   },
   {
    "duration": 32,
    "start_time": "2024-08-26T04:39:51.314Z"
   },
   {
    "duration": 28,
    "start_time": "2024-08-26T04:39:51.347Z"
   },
   {
    "duration": 24,
    "start_time": "2024-08-26T04:39:51.377Z"
   },
   {
    "duration": 21,
    "start_time": "2024-08-26T04:39:51.403Z"
   },
   {
    "duration": 257,
    "start_time": "2024-08-26T04:39:51.425Z"
   },
   {
    "duration": 6,
    "start_time": "2024-08-26T04:39:51.684Z"
   },
   {
    "duration": 568,
    "start_time": "2024-08-26T04:39:51.691Z"
   },
   {
    "duration": 93,
    "start_time": "2024-08-26T04:40:33.458Z"
   },
   {
    "duration": 193,
    "start_time": "2024-08-26T04:40:54.825Z"
   },
   {
    "duration": 524,
    "start_time": "2024-08-26T04:44:22.978Z"
   },
   {
    "duration": 436,
    "start_time": "2024-08-26T04:44:37.041Z"
   },
   {
    "duration": 444,
    "start_time": "2024-08-26T04:45:03.033Z"
   },
   {
    "duration": 435,
    "start_time": "2024-08-26T04:45:13.699Z"
   },
   {
    "duration": 10,
    "start_time": "2024-08-26T04:46:28.186Z"
   },
   {
    "duration": 22,
    "start_time": "2024-08-26T04:47:16.575Z"
   },
   {
    "duration": 14,
    "start_time": "2024-08-26T04:47:24.346Z"
   },
   {
    "duration": 765,
    "start_time": "2024-08-26T04:47:42.906Z"
   },
   {
    "duration": 804,
    "start_time": "2024-08-26T04:47:59.706Z"
   },
   {
    "duration": 842,
    "start_time": "2024-08-26T04:48:11.296Z"
   },
   {
    "duration": 884,
    "start_time": "2024-08-26T04:48:20.715Z"
   },
   {
    "duration": 20,
    "start_time": "2024-08-26T04:49:07.472Z"
   },
   {
    "duration": 851,
    "start_time": "2024-08-26T04:50:28.571Z"
   },
   {
    "duration": 14,
    "start_time": "2024-08-26T04:55:23.486Z"
   },
   {
    "duration": 115,
    "start_time": "2024-08-26T04:55:34.464Z"
   },
   {
    "duration": 1064,
    "start_time": "2024-08-26T04:59:05.506Z"
   },
   {
    "duration": 1330,
    "start_time": "2024-08-26T04:59:36.915Z"
   },
   {
    "duration": 1179,
    "start_time": "2024-08-26T04:59:44.157Z"
   },
   {
    "duration": 172,
    "start_time": "2024-08-26T05:00:05.750Z"
   },
   {
    "duration": 49,
    "start_time": "2024-08-26T05:00:10.213Z"
   },
   {
    "duration": 1158,
    "start_time": "2024-08-26T05:00:17.273Z"
   },
   {
    "duration": 597,
    "start_time": "2024-08-26T05:01:43.360Z"
   },
   {
    "duration": 565,
    "start_time": "2024-08-26T05:02:01.693Z"
   },
   {
    "duration": 1320,
    "start_time": "2024-08-26T07:04:28.968Z"
   },
   {
    "duration": 3,
    "start_time": "2024-08-26T07:04:30.290Z"
   },
   {
    "duration": 31,
    "start_time": "2024-08-26T07:04:30.294Z"
   },
   {
    "duration": 196,
    "start_time": "2024-08-26T07:04:30.327Z"
   },
   {
    "duration": 9,
    "start_time": "2024-08-26T07:04:30.525Z"
   },
   {
    "duration": 20,
    "start_time": "2024-08-26T07:04:30.536Z"
   },
   {
    "duration": 23,
    "start_time": "2024-08-26T07:04:30.557Z"
   },
   {
    "duration": 5,
    "start_time": "2024-08-26T07:04:30.582Z"
   },
   {
    "duration": 27,
    "start_time": "2024-08-26T07:04:30.588Z"
   },
   {
    "duration": 283,
    "start_time": "2024-08-26T07:04:30.617Z"
   },
   {
    "duration": 7,
    "start_time": "2024-08-26T07:04:30.901Z"
   },
   {
    "duration": 1353,
    "start_time": "2024-08-26T07:04:30.909Z"
   },
   {
    "duration": 545,
    "start_time": "2024-08-26T07:04:32.264Z"
   },
   {
    "duration": 969,
    "start_time": "2024-08-26T07:04:32.813Z"
   },
   {
    "duration": 617,
    "start_time": "2024-08-26T07:04:33.784Z"
   },
   {
    "duration": 4,
    "start_time": "2024-08-26T07:12:20.674Z"
   },
   {
    "duration": 20,
    "start_time": "2024-08-26T07:13:21.983Z"
   },
   {
    "duration": 38,
    "start_time": "2024-08-26T07:13:31.593Z"
   },
   {
    "duration": 5,
    "start_time": "2024-08-26T07:13:34.653Z"
   },
   {
    "duration": 26,
    "start_time": "2024-08-26T07:13:51.193Z"
   },
   {
    "duration": 351,
    "start_time": "2024-08-26T07:15:39.403Z"
   },
   {
    "duration": 10,
    "start_time": "2024-08-26T07:20:15.204Z"
   },
   {
    "duration": 3,
    "start_time": "2024-08-26T07:22:24.221Z"
   },
   {
    "duration": 4,
    "start_time": "2024-08-26T07:22:58.930Z"
   },
   {
    "duration": 22,
    "start_time": "2024-08-26T07:26:47.569Z"
   },
   {
    "duration": 3,
    "start_time": "2024-08-26T07:33:47.597Z"
   },
   {
    "duration": 3,
    "start_time": "2024-08-26T07:35:31.852Z"
   },
   {
    "duration": 71,
    "start_time": "2024-08-26T07:38:40.484Z"
   },
   {
    "duration": 3,
    "start_time": "2024-08-26T07:38:49.853Z"
   },
   {
    "duration": 3,
    "start_time": "2024-08-26T07:41:02.065Z"
   },
   {
    "duration": 107,
    "start_time": "2024-08-26T07:47:43.739Z"
   },
   {
    "duration": 4,
    "start_time": "2024-08-26T07:48:15.489Z"
   },
   {
    "duration": 353886,
    "start_time": "2024-08-26T07:48:18.809Z"
   },
   {
    "duration": 3,
    "start_time": "2024-08-26T07:55:05.796Z"
   },
   {
    "duration": 4,
    "start_time": "2024-08-26T07:55:11.756Z"
   },
   {
    "duration": 4,
    "start_time": "2024-08-26T07:55:56.824Z"
   },
   {
    "duration": 357051,
    "start_time": "2024-08-26T08:01:38.472Z"
   },
   {
    "duration": 78,
    "start_time": "2024-08-26T08:07:35.531Z"
   },
   {
    "duration": 41,
    "start_time": "2024-08-26T08:07:35.611Z"
   },
   {
    "duration": 3,
    "start_time": "2024-08-26T08:11:20.883Z"
   },
   {
    "duration": 17,
    "start_time": "2024-08-26T08:11:34.804Z"
   },
   {
    "duration": 14,
    "start_time": "2024-08-26T08:13:01.743Z"
   },
   {
    "duration": 31,
    "start_time": "2024-08-26T08:13:13.459Z"
   },
   {
    "duration": 6464,
    "start_time": "2024-08-26T08:14:08.965Z"
   },
   {
    "duration": 3,
    "start_time": "2024-08-26T08:14:57.835Z"
   },
   {
    "duration": 12,
    "start_time": "2024-08-26T08:23:33.620Z"
   },
   {
    "duration": 17,
    "start_time": "2024-08-26T08:23:52.039Z"
   },
   {
    "duration": 5,
    "start_time": "2024-08-26T08:24:09.919Z"
   },
   {
    "duration": 7,
    "start_time": "2024-08-26T08:24:14.581Z"
   },
   {
    "duration": 7,
    "start_time": "2024-08-26T08:24:29.839Z"
   },
   {
    "duration": 85,
    "start_time": "2024-08-26T08:24:49.529Z"
   },
   {
    "duration": 6,
    "start_time": "2024-08-26T08:24:54.467Z"
   },
   {
    "duration": 3,
    "start_time": "2024-08-26T08:25:22.557Z"
   },
   {
    "duration": 3,
    "start_time": "2024-08-26T08:25:41.573Z"
   },
   {
    "duration": 12,
    "start_time": "2024-08-26T08:26:44.987Z"
   },
   {
    "duration": 12239,
    "start_time": "2024-08-26T08:32:59.253Z"
   },
   {
    "duration": 7,
    "start_time": "2024-08-26T08:42:03.630Z"
   },
   {
    "duration": 1343,
    "start_time": "2024-08-26T08:42:45.644Z"
   },
   {
    "duration": 3,
    "start_time": "2024-08-26T08:42:46.988Z"
   },
   {
    "duration": 6,
    "start_time": "2024-08-26T08:42:46.992Z"
   },
   {
    "duration": 57,
    "start_time": "2024-08-26T08:42:46.999Z"
   },
   {
    "duration": 9,
    "start_time": "2024-08-26T08:42:47.058Z"
   },
   {
    "duration": 11,
    "start_time": "2024-08-26T08:42:47.068Z"
   },
   {
    "duration": 10,
    "start_time": "2024-08-26T08:42:47.080Z"
   },
   {
    "duration": 5,
    "start_time": "2024-08-26T08:42:47.092Z"
   },
   {
    "duration": 28,
    "start_time": "2024-08-26T08:42:47.098Z"
   },
   {
    "duration": 286,
    "start_time": "2024-08-26T08:42:47.127Z"
   },
   {
    "duration": 13,
    "start_time": "2024-08-26T08:42:47.414Z"
   },
   {
    "duration": 1350,
    "start_time": "2024-08-26T08:42:47.428Z"
   },
   {
    "duration": 463,
    "start_time": "2024-08-26T08:42:48.780Z"
   },
   {
    "duration": 979,
    "start_time": "2024-08-26T08:42:49.246Z"
   },
   {
    "duration": 683,
    "start_time": "2024-08-26T08:42:50.227Z"
   },
   {
    "duration": 4,
    "start_time": "2024-08-26T08:42:50.911Z"
   },
   {
    "duration": 45,
    "start_time": "2024-08-26T08:42:50.916Z"
   },
   {
    "duration": 9,
    "start_time": "2024-08-26T08:42:50.962Z"
   },
   {
    "duration": 24,
    "start_time": "2024-08-26T08:42:50.972Z"
   },
   {
    "duration": 8,
    "start_time": "2024-08-26T08:42:50.997Z"
   },
   {
    "duration": 122,
    "start_time": "2024-08-26T08:42:51.006Z"
   },
   {
    "duration": 0,
    "start_time": "2024-08-26T08:42:51.130Z"
   },
   {
    "duration": 1,
    "start_time": "2024-08-26T08:42:51.130Z"
   },
   {
    "duration": 0,
    "start_time": "2024-08-26T08:42:51.132Z"
   },
   {
    "duration": 0,
    "start_time": "2024-08-26T08:42:51.133Z"
   },
   {
    "duration": 0,
    "start_time": "2024-08-26T08:42:51.134Z"
   },
   {
    "duration": 0,
    "start_time": "2024-08-26T08:42:51.135Z"
   },
   {
    "duration": 13,
    "start_time": "2024-08-26T08:44:59.612Z"
   },
   {
    "duration": 6,
    "start_time": "2024-08-26T08:45:08.708Z"
   },
   {
    "duration": 3,
    "start_time": "2024-08-26T08:45:09.448Z"
   },
   {
    "duration": 379599,
    "start_time": "2024-08-26T08:45:11.059Z"
   },
   {
    "duration": 3,
    "start_time": "2024-08-26T08:51:30.660Z"
   },
   {
    "duration": 5963,
    "start_time": "2024-08-26T08:51:30.664Z"
   },
   {
    "duration": 95,
    "start_time": "2024-08-26T08:51:36.631Z"
   },
   {
    "duration": 18,
    "start_time": "2024-08-26T08:51:36.728Z"
   },
   {
    "duration": 7,
    "start_time": "2024-08-26T08:51:36.747Z"
   },
   {
    "duration": 2854,
    "start_time": "2024-08-26T09:21:52.429Z"
   },
   {
    "duration": 3,
    "start_time": "2024-08-26T09:21:55.285Z"
   },
   {
    "duration": 10,
    "start_time": "2024-08-26T09:21:55.289Z"
   },
   {
    "duration": 177,
    "start_time": "2024-08-26T09:21:55.301Z"
   },
   {
    "duration": 9,
    "start_time": "2024-08-26T09:21:55.481Z"
   },
   {
    "duration": 11,
    "start_time": "2024-08-26T09:21:55.491Z"
   },
   {
    "duration": 10,
    "start_time": "2024-08-26T09:21:55.504Z"
   },
   {
    "duration": 5,
    "start_time": "2024-08-26T09:21:55.515Z"
   },
   {
    "duration": 13,
    "start_time": "2024-08-26T09:21:55.521Z"
   },
   {
    "duration": 319,
    "start_time": "2024-08-26T09:21:55.535Z"
   },
   {
    "duration": 8,
    "start_time": "2024-08-26T09:21:55.855Z"
   },
   {
    "duration": 1423,
    "start_time": "2024-08-26T09:21:55.864Z"
   },
   {
    "duration": 505,
    "start_time": "2024-08-26T09:21:57.289Z"
   },
   {
    "duration": 980,
    "start_time": "2024-08-26T09:21:57.799Z"
   },
   {
    "duration": 749,
    "start_time": "2024-08-26T09:21:58.780Z"
   },
   {
    "duration": 4,
    "start_time": "2024-08-26T09:21:59.531Z"
   },
   {
    "duration": 21,
    "start_time": "2024-08-26T09:21:59.537Z"
   },
   {
    "duration": 9,
    "start_time": "2024-08-26T09:21:59.560Z"
   },
   {
    "duration": 46,
    "start_time": "2024-08-26T09:21:59.571Z"
   },
   {
    "duration": 27,
    "start_time": "2024-08-26T09:21:59.619Z"
   },
   {
    "duration": 4,
    "start_time": "2024-08-26T09:21:59.648Z"
   },
   {
    "duration": 403218,
    "start_time": "2024-08-26T09:21:59.654Z"
   },
   {
    "duration": 4,
    "start_time": "2024-08-26T09:28:42.874Z"
   },
   {
    "duration": 7320,
    "start_time": "2024-08-26T09:28:42.879Z"
   },
   {
    "duration": 4,
    "start_time": "2024-08-26T09:28:50.297Z"
   },
   {
    "duration": 24,
    "start_time": "2024-08-26T09:28:50.302Z"
   },
   {
    "duration": 8,
    "start_time": "2024-08-26T09:28:50.328Z"
   },
   {
    "duration": 1595,
    "start_time": "2024-08-27T10:43:52.573Z"
   },
   {
    "duration": 3,
    "start_time": "2024-08-27T10:43:54.170Z"
   },
   {
    "duration": 16,
    "start_time": "2024-08-27T10:43:54.174Z"
   },
   {
    "duration": 105,
    "start_time": "2024-08-27T10:43:54.192Z"
   },
   {
    "duration": 11,
    "start_time": "2024-08-27T10:43:54.298Z"
   },
   {
    "duration": 57,
    "start_time": "2024-08-27T10:43:54.310Z"
   },
   {
    "duration": 0,
    "start_time": "2024-08-27T10:43:54.369Z"
   },
   {
    "duration": 0,
    "start_time": "2024-08-27T10:43:54.370Z"
   },
   {
    "duration": 0,
    "start_time": "2024-08-27T10:43:54.371Z"
   },
   {
    "duration": 0,
    "start_time": "2024-08-27T10:43:54.373Z"
   },
   {
    "duration": 0,
    "start_time": "2024-08-27T10:43:54.373Z"
   },
   {
    "duration": 0,
    "start_time": "2024-08-27T10:43:54.374Z"
   },
   {
    "duration": 0,
    "start_time": "2024-08-27T10:43:54.375Z"
   },
   {
    "duration": 0,
    "start_time": "2024-08-27T10:43:54.376Z"
   },
   {
    "duration": 0,
    "start_time": "2024-08-27T10:43:54.377Z"
   },
   {
    "duration": 0,
    "start_time": "2024-08-27T10:43:54.378Z"
   },
   {
    "duration": 0,
    "start_time": "2024-08-27T10:43:54.379Z"
   },
   {
    "duration": 0,
    "start_time": "2024-08-27T10:43:54.380Z"
   },
   {
    "duration": 0,
    "start_time": "2024-08-27T10:43:54.381Z"
   },
   {
    "duration": 0,
    "start_time": "2024-08-27T10:43:54.382Z"
   },
   {
    "duration": 0,
    "start_time": "2024-08-27T10:43:54.383Z"
   },
   {
    "duration": 0,
    "start_time": "2024-08-27T10:43:54.384Z"
   },
   {
    "duration": 0,
    "start_time": "2024-08-27T10:43:54.385Z"
   },
   {
    "duration": 0,
    "start_time": "2024-08-27T10:43:54.385Z"
   },
   {
    "duration": 0,
    "start_time": "2024-08-27T10:43:54.386Z"
   },
   {
    "duration": 0,
    "start_time": "2024-08-27T10:43:54.387Z"
   },
   {
    "duration": 0,
    "start_time": "2024-08-27T10:43:54.388Z"
   },
   {
    "duration": 0,
    "start_time": "2024-08-27T10:43:54.389Z"
   },
   {
    "duration": 0,
    "start_time": "2024-08-27T10:43:54.390Z"
   },
   {
    "duration": 13,
    "start_time": "2024-08-27T10:44:14.643Z"
   },
   {
    "duration": 9,
    "start_time": "2024-08-27T10:44:27.344Z"
   },
   {
    "duration": 13,
    "start_time": "2024-08-27T10:44:28.182Z"
   },
   {
    "duration": 7,
    "start_time": "2024-08-27T10:44:28.900Z"
   },
   {
    "duration": 5,
    "start_time": "2024-08-27T10:44:44.704Z"
   },
   {
    "duration": 11,
    "start_time": "2024-08-27T10:44:46.382Z"
   },
   {
    "duration": 287,
    "start_time": "2024-08-27T10:44:47.091Z"
   },
   {
    "duration": 10,
    "start_time": "2024-08-27T10:46:41.649Z"
   },
   {
    "duration": 1294,
    "start_time": "2024-08-27T10:46:43.039Z"
   },
   {
    "duration": 1117,
    "start_time": "2024-08-27T10:47:23.388Z"
   },
   {
    "duration": 1095,
    "start_time": "2024-08-27T10:49:29.613Z"
   },
   {
    "duration": 1216,
    "start_time": "2024-08-27T10:49:41.444Z"
   },
   {
    "duration": 437,
    "start_time": "2024-08-27T10:49:48.033Z"
   },
   {
    "duration": 953,
    "start_time": "2024-08-27T10:52:33.805Z"
   },
   {
    "duration": 760,
    "start_time": "2024-08-27T11:03:57.543Z"
   },
   {
    "duration": 224,
    "start_time": "2024-08-27T11:04:28.823Z"
   },
   {
    "duration": 264,
    "start_time": "2024-08-27T11:04:36.863Z"
   },
   {
    "duration": 164,
    "start_time": "2024-08-27T11:04:41.222Z"
   },
   {
    "duration": 141,
    "start_time": "2024-08-27T11:04:47.454Z"
   },
   {
    "duration": 144,
    "start_time": "2024-08-27T11:05:02.523Z"
   },
   {
    "duration": 252,
    "start_time": "2024-08-27T11:05:06.825Z"
   },
   {
    "duration": 144,
    "start_time": "2024-08-27T11:05:10.695Z"
   },
   {
    "duration": 3,
    "start_time": "2024-08-27T11:06:18.726Z"
   },
   {
    "duration": 26,
    "start_time": "2024-08-27T11:15:12.516Z"
   },
   {
    "duration": 13,
    "start_time": "2024-08-27T11:15:22.996Z"
   },
   {
    "duration": 1504,
    "start_time": "2024-08-27T12:11:56.762Z"
   },
   {
    "duration": 2,
    "start_time": "2024-08-27T12:11:58.268Z"
   },
   {
    "duration": 10,
    "start_time": "2024-08-27T12:11:58.271Z"
   },
   {
    "duration": 50,
    "start_time": "2024-08-27T12:11:58.282Z"
   },
   {
    "duration": 10,
    "start_time": "2024-08-27T12:11:58.334Z"
   },
   {
    "duration": 12,
    "start_time": "2024-08-27T12:11:58.345Z"
   },
   {
    "duration": 9,
    "start_time": "2024-08-27T12:11:58.359Z"
   },
   {
    "duration": 8,
    "start_time": "2024-08-27T12:11:58.370Z"
   },
   {
    "duration": 8,
    "start_time": "2024-08-27T12:11:58.379Z"
   },
   {
    "duration": 5,
    "start_time": "2024-08-27T12:11:58.388Z"
   },
   {
    "duration": 15,
    "start_time": "2024-08-27T12:11:58.394Z"
   },
   {
    "duration": 7,
    "start_time": "2024-08-27T12:11:58.410Z"
   },
   {
    "duration": 1342,
    "start_time": "2024-08-27T12:11:58.447Z"
   },
   {
    "duration": 770,
    "start_time": "2024-08-27T12:11:59.792Z"
   },
   {
    "duration": 1687,
    "start_time": "2024-08-27T12:12:00.564Z"
   },
   {
    "duration": 315,
    "start_time": "2024-08-27T12:12:02.253Z"
   },
   {
    "duration": 4,
    "start_time": "2024-08-27T12:12:02.570Z"
   },
   {
    "duration": 22077,
    "start_time": "2024-08-27T12:12:02.576Z"
   },
   {
    "duration": 116,
    "start_time": "2024-08-27T12:12:24.655Z"
   },
   {
    "duration": 0,
    "start_time": "2024-08-27T12:12:24.772Z"
   },
   {
    "duration": 0,
    "start_time": "2024-08-27T12:12:24.774Z"
   },
   {
    "duration": 0,
    "start_time": "2024-08-27T12:12:24.775Z"
   },
   {
    "duration": 0,
    "start_time": "2024-08-27T12:12:24.776Z"
   },
   {
    "duration": 0,
    "start_time": "2024-08-27T12:12:24.777Z"
   },
   {
    "duration": 0,
    "start_time": "2024-08-27T12:12:24.778Z"
   },
   {
    "duration": 0,
    "start_time": "2024-08-27T12:12:24.778Z"
   },
   {
    "duration": 0,
    "start_time": "2024-08-27T12:12:24.779Z"
   },
   {
    "duration": 0,
    "start_time": "2024-08-27T12:12:24.781Z"
   },
   {
    "duration": 0,
    "start_time": "2024-08-27T12:12:24.782Z"
   },
   {
    "duration": 16346,
    "start_time": "2024-08-27T12:16:08.089Z"
   },
   {
    "duration": 59,
    "start_time": "2024-08-27T12:16:39.857Z"
   },
   {
    "duration": 21096,
    "start_time": "2024-08-27T12:16:57.856Z"
   },
   {
    "duration": 17842,
    "start_time": "2024-08-27T12:19:11.587Z"
   },
   {
    "duration": 20140,
    "start_time": "2024-08-27T12:20:00.734Z"
   },
   {
    "duration": 20,
    "start_time": "2024-08-27T12:20:54.095Z"
   },
   {
    "duration": 13,
    "start_time": "2024-08-27T12:23:13.950Z"
   },
   {
    "duration": 25,
    "start_time": "2024-08-27T12:23:14.510Z"
   },
   {
    "duration": 146,
    "start_time": "2024-08-27T12:23:44.239Z"
   },
   {
    "duration": 14,
    "start_time": "2024-08-27T12:23:49.079Z"
   },
   {
    "duration": 6,
    "start_time": "2024-08-27T12:23:55.477Z"
   },
   {
    "duration": 5,
    "start_time": "2024-08-27T12:24:10.149Z"
   },
   {
    "duration": 323006,
    "start_time": "2024-08-27T12:24:29.004Z"
   },
   {
    "duration": 4,
    "start_time": "2024-08-27T12:29:52.012Z"
   },
   {
    "duration": 3,
    "start_time": "2024-08-27T12:43:21.083Z"
   },
   {
    "duration": 4,
    "start_time": "2024-08-27T12:43:25.886Z"
   },
   {
    "duration": 964,
    "start_time": "2024-08-27T12:43:48.271Z"
   },
   {
    "duration": 7,
    "start_time": "2024-08-27T12:44:06.855Z"
   },
   {
    "duration": 18,
    "start_time": "2024-08-27T12:44:59.656Z"
   },
   {
    "duration": 7,
    "start_time": "2024-08-27T12:45:13.324Z"
   },
   {
    "duration": 19,
    "start_time": "2024-08-27T12:45:17.444Z"
   },
   {
    "duration": 7,
    "start_time": "2024-08-27T12:45:48.565Z"
   },
   {
    "duration": 12,
    "start_time": "2024-08-27T12:45:52.504Z"
   },
   {
    "duration": 9542,
    "start_time": "2024-08-27T12:46:08.703Z"
   },
   {
    "duration": 23,
    "start_time": "2024-08-27T12:46:20.034Z"
   },
   {
    "duration": 3,
    "start_time": "2024-08-27T12:46:26.833Z"
   },
   {
    "duration": 5,
    "start_time": "2024-08-27T12:46:32.133Z"
   },
   {
    "duration": 3488,
    "start_time": "2024-08-27T12:51:05.666Z"
   },
   {
    "duration": 1579,
    "start_time": "2024-08-27T12:51:09.158Z"
   },
   {
    "duration": 8,
    "start_time": "2024-08-27T12:51:10.739Z"
   },
   {
    "duration": 14,
    "start_time": "2024-08-27T12:51:10.751Z"
   },
   {
    "duration": 57,
    "start_time": "2024-08-27T12:51:10.768Z"
   },
   {
    "duration": 12,
    "start_time": "2024-08-27T12:51:10.826Z"
   },
   {
    "duration": 116,
    "start_time": "2024-08-27T12:51:10.840Z"
   },
   {
    "duration": 18,
    "start_time": "2024-08-27T12:51:10.959Z"
   },
   {
    "duration": 10,
    "start_time": "2024-08-27T12:51:10.978Z"
   },
   {
    "duration": 14,
    "start_time": "2024-08-27T12:51:10.992Z"
   },
   {
    "duration": 30,
    "start_time": "2024-08-27T12:51:11.008Z"
   },
   {
    "duration": 35,
    "start_time": "2024-08-27T12:51:11.040Z"
   },
   {
    "duration": 12,
    "start_time": "2024-08-27T12:51:11.077Z"
   },
   {
    "duration": 1563,
    "start_time": "2024-08-27T12:51:11.092Z"
   },
   {
    "duration": 525,
    "start_time": "2024-08-27T12:51:12.657Z"
   },
   {
    "duration": 925,
    "start_time": "2024-08-27T12:51:13.184Z"
   },
   {
    "duration": 172,
    "start_time": "2024-08-27T12:51:14.111Z"
   },
   {
    "duration": 4,
    "start_time": "2024-08-27T12:51:14.285Z"
   },
   {
    "duration": 17197,
    "start_time": "2024-08-27T12:51:14.290Z"
   },
   {
    "duration": 21,
    "start_time": "2024-08-27T12:51:31.489Z"
   },
   {
    "duration": 10,
    "start_time": "2024-08-27T12:51:31.512Z"
   },
   {
    "duration": 62,
    "start_time": "2024-08-27T12:51:31.524Z"
   },
   {
    "duration": 7,
    "start_time": "2024-08-27T12:51:31.587Z"
   },
   {
    "duration": 16,
    "start_time": "2024-08-27T12:51:31.596Z"
   },
   {
    "duration": 333379,
    "start_time": "2024-08-27T12:51:31.614Z"
   },
   {
    "duration": 4,
    "start_time": "2024-08-27T12:57:04.995Z"
   },
   {
    "duration": 174,
    "start_time": "2024-08-27T12:57:05.000Z"
   },
   {
    "duration": 0,
    "start_time": "2024-08-27T12:57:05.177Z"
   },
   {
    "duration": 0,
    "start_time": "2024-08-27T12:57:05.179Z"
   },
   {
    "duration": 0,
    "start_time": "2024-08-27T12:57:05.181Z"
   },
   {
    "duration": 3,
    "start_time": "2024-08-27T12:57:56.414Z"
   },
   {
    "duration": 49,
    "start_time": "2024-08-27T12:58:01.313Z"
   },
   {
    "duration": 12626,
    "start_time": "2024-08-27T12:58:19.954Z"
   },
   {
    "duration": 5,
    "start_time": "2024-08-27T12:58:32.583Z"
   },
   {
    "duration": 51,
    "start_time": "2024-08-27T13:02:47.297Z"
   },
   {
    "duration": 28,
    "start_time": "2024-08-27T13:05:50.948Z"
   }
  ],
  "kernelspec": {
   "display_name": "Python 3 (ipykernel)",
   "language": "python",
   "name": "python3"
  },
  "language_info": {
   "codemirror_mode": {
    "name": "ipython",
    "version": 3
   },
   "file_extension": ".py",
   "mimetype": "text/x-python",
   "name": "python",
   "nbconvert_exporter": "python",
   "pygments_lexer": "ipython3",
   "version": "3.9.5"
  },
  "toc": {
   "base_numbering": 1,
   "nav_menu": {},
   "number_sections": true,
   "sideBar": true,
   "skip_h1_title": true,
   "title_cell": "Содержание",
   "title_sidebar": "Contents",
   "toc_cell": true,
   "toc_position": {
    "height": "851.1px",
    "left": "232px",
    "top": "346.333px",
    "width": "409.567px"
   },
   "toc_section_display": true,
   "toc_window_display": true
  },
  "widgets": {
   "application/vnd.jupyter.widget-state+json": {
    "state": {},
    "version_major": 2,
    "version_minor": 0
   }
  }
 },
 "nbformat": 4,
 "nbformat_minor": 4
}
